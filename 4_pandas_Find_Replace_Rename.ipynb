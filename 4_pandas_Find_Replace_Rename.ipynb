{
 "cells": [
  {
   "cell_type": "markdown",
   "metadata": {
    "azdata_cell_guid": "eb6ede6c-b470-45ff-a6e9-82ac65d25174"
   },
   "source": [
    "[Section 1: Find Replace](#Section-1)\n",
    "\n",
    "[Section 2: Missing Data imputation](#Section-2)\n",
    "\n",
    "[Section 3: Rename](#Section-3)\n"
   ]
  },
  {
   "cell_type": "code",
   "execution_count": 1,
   "metadata": {},
   "outputs": [
    {
     "name": "stdout",
     "output_type": "stream",
     "text": [
      "C:\\Users\\vrohi\\OneDrive\\Desktop\\GitHub Repo\\Python Pandas\\W4\n"
     ]
    }
   ],
   "source": [
    "import os\n",
    "\n",
    "print(os.getcwd())"
   ]
  },
  {
   "cell_type": "code",
   "execution_count": 3,
   "metadata": {
    "azdata_cell_guid": "c4257f3e-79e6-4015-8245-82cdce3c26f2"
   },
   "outputs": [],
   "source": [
    "import pandas as pd, numpy as np"
   ]
  },
  {
   "cell_type": "code",
   "execution_count": 4,
   "metadata": {
    "azdata_cell_guid": "c3729c8d-0d6d-4405-a21f-29ef87af5b97"
   },
   "outputs": [
    {
     "data": {
      "text/html": [
       "<div>\n",
       "<style scoped>\n",
       "    .dataframe tbody tr th:only-of-type {\n",
       "        vertical-align: middle;\n",
       "    }\n",
       "\n",
       "    .dataframe tbody tr th {\n",
       "        vertical-align: top;\n",
       "    }\n",
       "\n",
       "    .dataframe thead th {\n",
       "        text-align: right;\n",
       "    }\n",
       "</style>\n",
       "<table border=\"1\" class=\"dataframe\">\n",
       "  <thead>\n",
       "    <tr style=\"text-align: right;\">\n",
       "      <th></th>\n",
       "      <th>country</th>\n",
       "      <th>description</th>\n",
       "      <th>designation</th>\n",
       "      <th>points</th>\n",
       "      <th>price</th>\n",
       "      <th>province</th>\n",
       "      <th>region_1</th>\n",
       "      <th>region_2</th>\n",
       "      <th>taster_name</th>\n",
       "      <th>taster_twitter_handle</th>\n",
       "      <th>title</th>\n",
       "      <th>variety</th>\n",
       "      <th>winery</th>\n",
       "    </tr>\n",
       "  </thead>\n",
       "  <tbody>\n",
       "    <tr>\n",
       "      <th>0</th>\n",
       "      <td>Italy</td>\n",
       "      <td>Aromas include tropical fruit, broom, brimston...</td>\n",
       "      <td>Vulkà Bianco</td>\n",
       "      <td>87</td>\n",
       "      <td>NaN</td>\n",
       "      <td>Sicily &amp; Sardinia</td>\n",
       "      <td>Etna</td>\n",
       "      <td>NaN</td>\n",
       "      <td>Kerin O’Keefe</td>\n",
       "      <td>@kerinokeefe</td>\n",
       "      <td>Nicosia 2013 Vulkà Bianco  (Etna)</td>\n",
       "      <td>White Blend</td>\n",
       "      <td>Nicosia</td>\n",
       "    </tr>\n",
       "    <tr>\n",
       "      <th>1</th>\n",
       "      <td>Portugal</td>\n",
       "      <td>This is ripe and fruity, a wine that is smooth...</td>\n",
       "      <td>Avidagos</td>\n",
       "      <td>87</td>\n",
       "      <td>15.0</td>\n",
       "      <td>Douro</td>\n",
       "      <td>NaN</td>\n",
       "      <td>NaN</td>\n",
       "      <td>Roger Voss</td>\n",
       "      <td>@vossroger</td>\n",
       "      <td>Quinta dos Avidagos 2011 Avidagos Red (Douro)</td>\n",
       "      <td>Portuguese Red</td>\n",
       "      <td>Quinta dos Avidagos</td>\n",
       "    </tr>\n",
       "    <tr>\n",
       "      <th>2</th>\n",
       "      <td>US</td>\n",
       "      <td>Tart and snappy, the flavors of lime flesh and...</td>\n",
       "      <td>NaN</td>\n",
       "      <td>87</td>\n",
       "      <td>14.0</td>\n",
       "      <td>Oregon</td>\n",
       "      <td>Willamette Valley</td>\n",
       "      <td>Willamette Valley</td>\n",
       "      <td>Paul Gregutt</td>\n",
       "      <td>@paulgwine</td>\n",
       "      <td>Rainstorm 2013 Pinot Gris (Willamette Valley)</td>\n",
       "      <td>Pinot Gris</td>\n",
       "      <td>Rainstorm</td>\n",
       "    </tr>\n",
       "    <tr>\n",
       "      <th>3</th>\n",
       "      <td>US</td>\n",
       "      <td>Pineapple rind, lemon pith and orange blossom ...</td>\n",
       "      <td>Reserve Late Harvest</td>\n",
       "      <td>87</td>\n",
       "      <td>13.0</td>\n",
       "      <td>Michigan</td>\n",
       "      <td>Lake Michigan Shore</td>\n",
       "      <td>NaN</td>\n",
       "      <td>Alexander Peartree</td>\n",
       "      <td>NaN</td>\n",
       "      <td>St. Julian 2013 Reserve Late Harvest Riesling ...</td>\n",
       "      <td>Riesling</td>\n",
       "      <td>St. Julian</td>\n",
       "    </tr>\n",
       "    <tr>\n",
       "      <th>4</th>\n",
       "      <td>US</td>\n",
       "      <td>Much like the regular bottling from 2012, this...</td>\n",
       "      <td>Vintner's Reserve Wild Child Block</td>\n",
       "      <td>87</td>\n",
       "      <td>65.0</td>\n",
       "      <td>Oregon</td>\n",
       "      <td>Willamette Valley</td>\n",
       "      <td>Willamette Valley</td>\n",
       "      <td>Paul Gregutt</td>\n",
       "      <td>@paulgwine</td>\n",
       "      <td>Sweet Cheeks 2012 Vintner's Reserve Wild Child...</td>\n",
       "      <td>Pinot Noir</td>\n",
       "      <td>Sweet Cheeks</td>\n",
       "    </tr>\n",
       "  </tbody>\n",
       "</table>\n",
       "</div>"
      ],
      "text/plain": [
       "    country                                        description  \\\n",
       "0     Italy  Aromas include tropical fruit, broom, brimston...   \n",
       "1  Portugal  This is ripe and fruity, a wine that is smooth...   \n",
       "2        US  Tart and snappy, the flavors of lime flesh and...   \n",
       "3        US  Pineapple rind, lemon pith and orange blossom ...   \n",
       "4        US  Much like the regular bottling from 2012, this...   \n",
       "\n",
       "                          designation  points  price           province  \\\n",
       "0                        Vulkà Bianco      87    NaN  Sicily & Sardinia   \n",
       "1                            Avidagos      87   15.0              Douro   \n",
       "2                                 NaN      87   14.0             Oregon   \n",
       "3                Reserve Late Harvest      87   13.0           Michigan   \n",
       "4  Vintner's Reserve Wild Child Block      87   65.0             Oregon   \n",
       "\n",
       "              region_1           region_2         taster_name  \\\n",
       "0                 Etna                NaN       Kerin O’Keefe   \n",
       "1                  NaN                NaN          Roger Voss   \n",
       "2    Willamette Valley  Willamette Valley        Paul Gregutt   \n",
       "3  Lake Michigan Shore                NaN  Alexander Peartree   \n",
       "4    Willamette Valley  Willamette Valley        Paul Gregutt   \n",
       "\n",
       "  taster_twitter_handle                                              title  \\\n",
       "0          @kerinokeefe                  Nicosia 2013 Vulkà Bianco  (Etna)   \n",
       "1            @vossroger      Quinta dos Avidagos 2011 Avidagos Red (Douro)   \n",
       "2           @paulgwine       Rainstorm 2013 Pinot Gris (Willamette Valley)   \n",
       "3                   NaN  St. Julian 2013 Reserve Late Harvest Riesling ...   \n",
       "4           @paulgwine   Sweet Cheeks 2012 Vintner's Reserve Wild Child...   \n",
       "\n",
       "          variety               winery  \n",
       "0     White Blend              Nicosia  \n",
       "1  Portuguese Red  Quinta dos Avidagos  \n",
       "2      Pinot Gris            Rainstorm  \n",
       "3        Riesling           St. Julian  \n",
       "4      Pinot Noir         Sweet Cheeks  "
      ]
     },
     "execution_count": 4,
     "metadata": {},
     "output_type": "execute_result"
    }
   ],
   "source": [
    "wine=pd.read_csv('winemag-data-130k-v2.csv', index_col=0)\n",
    "\n",
    "wine.head()"
   ]
  },
  {
   "cell_type": "code",
   "execution_count": 5,
   "metadata": {
    "azdata_cell_guid": "164595c0-55ca-4f8f-a6de-dcb047fd9174"
   },
   "outputs": [
    {
     "name": "stdout",
     "output_type": "stream",
     "text": [
      "<class 'pandas.core.frame.DataFrame'>\n",
      "Int64Index: 129971 entries, 0 to 129970\n",
      "Data columns (total 13 columns):\n",
      " #   Column                 Non-Null Count   Dtype  \n",
      "---  ------                 --------------   -----  \n",
      " 0   country                129908 non-null  object \n",
      " 1   description            129971 non-null  object \n",
      " 2   designation            92506 non-null   object \n",
      " 3   points                 129971 non-null  int64  \n",
      " 4   price                  120975 non-null  float64\n",
      " 5   province               129908 non-null  object \n",
      " 6   region_1               108724 non-null  object \n",
      " 7   region_2               50511 non-null   object \n",
      " 8   taster_name            103727 non-null  object \n",
      " 9   taster_twitter_handle  98758 non-null   object \n",
      " 10  title                  129971 non-null  object \n",
      " 11  variety                129970 non-null  object \n",
      " 12  winery                 129971 non-null  object \n",
      "dtypes: float64(1), int64(1), object(11)\n",
      "memory usage: 13.9+ MB\n"
     ]
    }
   ],
   "source": [
    "wine.info()"
   ]
  },
  {
   "cell_type": "markdown",
   "metadata": {
    "azdata_cell_guid": "9c246c42-14c5-4600-b240-b97ceecb38a3"
   },
   "source": [
    "#### Show the last five records of `wine`"
   ]
  },
  {
   "cell_type": "code",
   "execution_count": 6,
   "metadata": {
    "azdata_cell_guid": "193580d0-ab87-44ac-a543-4c06f8bb19f9"
   },
   "outputs": [
    {
     "data": {
      "text/html": [
       "<div>\n",
       "<style scoped>\n",
       "    .dataframe tbody tr th:only-of-type {\n",
       "        vertical-align: middle;\n",
       "    }\n",
       "\n",
       "    .dataframe tbody tr th {\n",
       "        vertical-align: top;\n",
       "    }\n",
       "\n",
       "    .dataframe thead th {\n",
       "        text-align: right;\n",
       "    }\n",
       "</style>\n",
       "<table border=\"1\" class=\"dataframe\">\n",
       "  <thead>\n",
       "    <tr style=\"text-align: right;\">\n",
       "      <th></th>\n",
       "      <th>country</th>\n",
       "      <th>description</th>\n",
       "      <th>designation</th>\n",
       "      <th>points</th>\n",
       "      <th>price</th>\n",
       "      <th>province</th>\n",
       "      <th>region_1</th>\n",
       "      <th>region_2</th>\n",
       "      <th>taster_name</th>\n",
       "      <th>taster_twitter_handle</th>\n",
       "      <th>title</th>\n",
       "      <th>variety</th>\n",
       "      <th>winery</th>\n",
       "    </tr>\n",
       "  </thead>\n",
       "  <tbody>\n",
       "    <tr>\n",
       "      <th>129966</th>\n",
       "      <td>Germany</td>\n",
       "      <td>Notes of honeysuckle and cantaloupe sweeten th...</td>\n",
       "      <td>Brauneberger Juffer-Sonnenuhr Spätlese</td>\n",
       "      <td>90</td>\n",
       "      <td>28.0</td>\n",
       "      <td>Mosel</td>\n",
       "      <td>NaN</td>\n",
       "      <td>NaN</td>\n",
       "      <td>Anna Lee C. Iijima</td>\n",
       "      <td>NaN</td>\n",
       "      <td>Dr. H. Thanisch (Erben Müller-Burggraef) 2013 ...</td>\n",
       "      <td>Riesling</td>\n",
       "      <td>Dr. H. Thanisch (Erben Müller-Burggraef)</td>\n",
       "    </tr>\n",
       "    <tr>\n",
       "      <th>129967</th>\n",
       "      <td>US</td>\n",
       "      <td>Citation is given as much as a decade of bottl...</td>\n",
       "      <td>NaN</td>\n",
       "      <td>90</td>\n",
       "      <td>75.0</td>\n",
       "      <td>Oregon</td>\n",
       "      <td>Oregon</td>\n",
       "      <td>Oregon Other</td>\n",
       "      <td>Paul Gregutt</td>\n",
       "      <td>@paulgwine</td>\n",
       "      <td>Citation 2004 Pinot Noir (Oregon)</td>\n",
       "      <td>Pinot Noir</td>\n",
       "      <td>Citation</td>\n",
       "    </tr>\n",
       "    <tr>\n",
       "      <th>129968</th>\n",
       "      <td>France</td>\n",
       "      <td>Well-drained gravel soil gives this wine its c...</td>\n",
       "      <td>Kritt</td>\n",
       "      <td>90</td>\n",
       "      <td>30.0</td>\n",
       "      <td>Alsace</td>\n",
       "      <td>Alsace</td>\n",
       "      <td>NaN</td>\n",
       "      <td>Roger Voss</td>\n",
       "      <td>@vossroger</td>\n",
       "      <td>Domaine Gresser 2013 Kritt Gewurztraminer (Als...</td>\n",
       "      <td>Gewürztraminer</td>\n",
       "      <td>Domaine Gresser</td>\n",
       "    </tr>\n",
       "    <tr>\n",
       "      <th>129969</th>\n",
       "      <td>France</td>\n",
       "      <td>A dry style of Pinot Gris, this is crisp with ...</td>\n",
       "      <td>NaN</td>\n",
       "      <td>90</td>\n",
       "      <td>32.0</td>\n",
       "      <td>Alsace</td>\n",
       "      <td>Alsace</td>\n",
       "      <td>NaN</td>\n",
       "      <td>Roger Voss</td>\n",
       "      <td>@vossroger</td>\n",
       "      <td>Domaine Marcel Deiss 2012 Pinot Gris (Alsace)</td>\n",
       "      <td>Pinot Gris</td>\n",
       "      <td>Domaine Marcel Deiss</td>\n",
       "    </tr>\n",
       "    <tr>\n",
       "      <th>129970</th>\n",
       "      <td>France</td>\n",
       "      <td>Big, rich and off-dry, this is powered by inte...</td>\n",
       "      <td>Lieu-dit Harth Cuvée Caroline</td>\n",
       "      <td>90</td>\n",
       "      <td>21.0</td>\n",
       "      <td>Alsace</td>\n",
       "      <td>Alsace</td>\n",
       "      <td>NaN</td>\n",
       "      <td>Roger Voss</td>\n",
       "      <td>@vossroger</td>\n",
       "      <td>Domaine Schoffit 2012 Lieu-dit Harth Cuvée Car...</td>\n",
       "      <td>Gewürztraminer</td>\n",
       "      <td>Domaine Schoffit</td>\n",
       "    </tr>\n",
       "  </tbody>\n",
       "</table>\n",
       "</div>"
      ],
      "text/plain": [
       "        country                                        description  \\\n",
       "129966  Germany  Notes of honeysuckle and cantaloupe sweeten th...   \n",
       "129967       US  Citation is given as much as a decade of bottl...   \n",
       "129968   France  Well-drained gravel soil gives this wine its c...   \n",
       "129969   France  A dry style of Pinot Gris, this is crisp with ...   \n",
       "129970   France  Big, rich and off-dry, this is powered by inte...   \n",
       "\n",
       "                                   designation  points  price province  \\\n",
       "129966  Brauneberger Juffer-Sonnenuhr Spätlese      90   28.0    Mosel   \n",
       "129967                                     NaN      90   75.0   Oregon   \n",
       "129968                                   Kritt      90   30.0   Alsace   \n",
       "129969                                     NaN      90   32.0   Alsace   \n",
       "129970           Lieu-dit Harth Cuvée Caroline      90   21.0   Alsace   \n",
       "\n",
       "       region_1      region_2         taster_name taster_twitter_handle  \\\n",
       "129966      NaN           NaN  Anna Lee C. Iijima                   NaN   \n",
       "129967   Oregon  Oregon Other        Paul Gregutt           @paulgwine    \n",
       "129968   Alsace           NaN          Roger Voss            @vossroger   \n",
       "129969   Alsace           NaN          Roger Voss            @vossroger   \n",
       "129970   Alsace           NaN          Roger Voss            @vossroger   \n",
       "\n",
       "                                                    title         variety  \\\n",
       "129966  Dr. H. Thanisch (Erben Müller-Burggraef) 2013 ...        Riesling   \n",
       "129967                  Citation 2004 Pinot Noir (Oregon)      Pinot Noir   \n",
       "129968  Domaine Gresser 2013 Kritt Gewurztraminer (Als...  Gewürztraminer   \n",
       "129969      Domaine Marcel Deiss 2012 Pinot Gris (Alsace)      Pinot Gris   \n",
       "129970  Domaine Schoffit 2012 Lieu-dit Harth Cuvée Car...  Gewürztraminer   \n",
       "\n",
       "                                          winery  \n",
       "129966  Dr. H. Thanisch (Erben Müller-Burggraef)  \n",
       "129967                                  Citation  \n",
       "129968                           Domaine Gresser  \n",
       "129969                      Domaine Marcel Deiss  \n",
       "129970                          Domaine Schoffit  "
      ]
     },
     "execution_count": 6,
     "metadata": {},
     "output_type": "execute_result"
    }
   ],
   "source": [
    "wine.tail()"
   ]
  },
  {
   "cell_type": "markdown",
   "metadata": {
    "azdata_cell_guid": "113955c0-a914-47d5-b6cf-e9f9c07ab187",
    "slideshow": {
     "slide_type": "subslide"
    }
   },
   "source": [
    "#### Show a tuple of the number of columns and rows in `wine`"
   ]
  },
  {
   "cell_type": "code",
   "execution_count": 7,
   "metadata": {
    "azdata_cell_guid": "fdde5346-fb36-4a62-8577-5069cd49124b"
   },
   "outputs": [
    {
     "data": {
      "text/plain": [
       "(129971, 13)"
      ]
     },
     "execution_count": 7,
     "metadata": {},
     "output_type": "execute_result"
    }
   ],
   "source": [
    "wine.shape"
   ]
  },
  {
   "cell_type": "markdown",
   "metadata": {
    "azdata_cell_guid": "3d6a5ae4-f979-412f-92ea-bb7a36a2ea7b"
   },
   "source": [
    "#### Show the columns in `wine`"
   ]
  },
  {
   "cell_type": "code",
   "execution_count": 8,
   "metadata": {
    "azdata_cell_guid": "3554389d-4723-4238-a403-ae7bbecc8158"
   },
   "outputs": [
    {
     "data": {
      "text/plain": [
       "Index(['country', 'description', 'designation', 'points', 'price', 'province',\n",
       "       'region_1', 'region_2', 'taster_name', 'taster_twitter_handle', 'title',\n",
       "       'variety', 'winery'],\n",
       "      dtype='object')"
      ]
     },
     "execution_count": 8,
     "metadata": {},
     "output_type": "execute_result"
    }
   ],
   "source": [
    "wine.columns"
   ]
  },
  {
   "cell_type": "markdown",
   "metadata": {
    "azdata_cell_guid": "2ce2176e-2c0c-468c-941e-339c174877fb"
   },
   "source": [
    "#### Show the datatypes that are in `wine`"
   ]
  },
  {
   "cell_type": "code",
   "execution_count": 9,
   "metadata": {
    "azdata_cell_guid": "b7d84045-ad53-4666-99d4-2ffe69f58db0"
   },
   "outputs": [
    {
     "data": {
      "text/plain": [
       "country                   object\n",
       "description               object\n",
       "designation               object\n",
       "points                     int64\n",
       "price                    float64\n",
       "province                  object\n",
       "region_1                  object\n",
       "region_2                  object\n",
       "taster_name               object\n",
       "taster_twitter_handle     object\n",
       "title                     object\n",
       "variety                   object\n",
       "winery                    object\n",
       "dtype: object"
      ]
     },
     "execution_count": 9,
     "metadata": {},
     "output_type": "execute_result"
    }
   ],
   "source": [
    "wine.dtypes"
   ]
  },
  {
   "cell_type": "markdown",
   "metadata": {
    "azdata_cell_guid": "4ba98d51-f7fc-4a5a-b5be-6bc5cc1c4611"
   },
   "source": [
    "### Show the summary stats for all columns in `wine`"
   ]
  },
  {
   "cell_type": "code",
   "execution_count": 10,
   "metadata": {
    "azdata_cell_guid": "7f653829-2144-4b80-a5c6-3aa5cf6b4eae",
    "scrolled": true
   },
   "outputs": [
    {
     "data": {
      "text/html": [
       "<div>\n",
       "<style scoped>\n",
       "    .dataframe tbody tr th:only-of-type {\n",
       "        vertical-align: middle;\n",
       "    }\n",
       "\n",
       "    .dataframe tbody tr th {\n",
       "        vertical-align: top;\n",
       "    }\n",
       "\n",
       "    .dataframe thead th {\n",
       "        text-align: right;\n",
       "    }\n",
       "</style>\n",
       "<table border=\"1\" class=\"dataframe\">\n",
       "  <thead>\n",
       "    <tr style=\"text-align: right;\">\n",
       "      <th></th>\n",
       "      <th>country</th>\n",
       "      <th>description</th>\n",
       "      <th>designation</th>\n",
       "      <th>points</th>\n",
       "      <th>price</th>\n",
       "      <th>province</th>\n",
       "      <th>region_1</th>\n",
       "      <th>region_2</th>\n",
       "      <th>taster_name</th>\n",
       "      <th>taster_twitter_handle</th>\n",
       "      <th>title</th>\n",
       "      <th>variety</th>\n",
       "      <th>winery</th>\n",
       "    </tr>\n",
       "  </thead>\n",
       "  <tbody>\n",
       "    <tr>\n",
       "      <th>count</th>\n",
       "      <td>129908</td>\n",
       "      <td>129971</td>\n",
       "      <td>92506</td>\n",
       "      <td>129971.000000</td>\n",
       "      <td>120975.000000</td>\n",
       "      <td>129908</td>\n",
       "      <td>108724</td>\n",
       "      <td>50511</td>\n",
       "      <td>103727</td>\n",
       "      <td>98758</td>\n",
       "      <td>129971</td>\n",
       "      <td>129970</td>\n",
       "      <td>129971</td>\n",
       "    </tr>\n",
       "    <tr>\n",
       "      <th>unique</th>\n",
       "      <td>43</td>\n",
       "      <td>119955</td>\n",
       "      <td>37979</td>\n",
       "      <td>NaN</td>\n",
       "      <td>NaN</td>\n",
       "      <td>425</td>\n",
       "      <td>1229</td>\n",
       "      <td>17</td>\n",
       "      <td>19</td>\n",
       "      <td>15</td>\n",
       "      <td>118840</td>\n",
       "      <td>707</td>\n",
       "      <td>16757</td>\n",
       "    </tr>\n",
       "    <tr>\n",
       "      <th>top</th>\n",
       "      <td>US</td>\n",
       "      <td>Seductively tart in lemon pith, cranberry and ...</td>\n",
       "      <td>Reserve</td>\n",
       "      <td>NaN</td>\n",
       "      <td>NaN</td>\n",
       "      <td>California</td>\n",
       "      <td>Napa Valley</td>\n",
       "      <td>Central Coast</td>\n",
       "      <td>Roger Voss</td>\n",
       "      <td>@vossroger</td>\n",
       "      <td>Gloria Ferrer NV Sonoma Brut Sparkling (Sonoma...</td>\n",
       "      <td>Pinot Noir</td>\n",
       "      <td>Wines &amp; Winemakers</td>\n",
       "    </tr>\n",
       "    <tr>\n",
       "      <th>freq</th>\n",
       "      <td>54504</td>\n",
       "      <td>3</td>\n",
       "      <td>2009</td>\n",
       "      <td>NaN</td>\n",
       "      <td>NaN</td>\n",
       "      <td>36247</td>\n",
       "      <td>4480</td>\n",
       "      <td>11065</td>\n",
       "      <td>25514</td>\n",
       "      <td>25514</td>\n",
       "      <td>11</td>\n",
       "      <td>13272</td>\n",
       "      <td>222</td>\n",
       "    </tr>\n",
       "    <tr>\n",
       "      <th>mean</th>\n",
       "      <td>NaN</td>\n",
       "      <td>NaN</td>\n",
       "      <td>NaN</td>\n",
       "      <td>88.447138</td>\n",
       "      <td>35.363389</td>\n",
       "      <td>NaN</td>\n",
       "      <td>NaN</td>\n",
       "      <td>NaN</td>\n",
       "      <td>NaN</td>\n",
       "      <td>NaN</td>\n",
       "      <td>NaN</td>\n",
       "      <td>NaN</td>\n",
       "      <td>NaN</td>\n",
       "    </tr>\n",
       "    <tr>\n",
       "      <th>std</th>\n",
       "      <td>NaN</td>\n",
       "      <td>NaN</td>\n",
       "      <td>NaN</td>\n",
       "      <td>3.039730</td>\n",
       "      <td>41.022218</td>\n",
       "      <td>NaN</td>\n",
       "      <td>NaN</td>\n",
       "      <td>NaN</td>\n",
       "      <td>NaN</td>\n",
       "      <td>NaN</td>\n",
       "      <td>NaN</td>\n",
       "      <td>NaN</td>\n",
       "      <td>NaN</td>\n",
       "    </tr>\n",
       "    <tr>\n",
       "      <th>min</th>\n",
       "      <td>NaN</td>\n",
       "      <td>NaN</td>\n",
       "      <td>NaN</td>\n",
       "      <td>80.000000</td>\n",
       "      <td>4.000000</td>\n",
       "      <td>NaN</td>\n",
       "      <td>NaN</td>\n",
       "      <td>NaN</td>\n",
       "      <td>NaN</td>\n",
       "      <td>NaN</td>\n",
       "      <td>NaN</td>\n",
       "      <td>NaN</td>\n",
       "      <td>NaN</td>\n",
       "    </tr>\n",
       "    <tr>\n",
       "      <th>25%</th>\n",
       "      <td>NaN</td>\n",
       "      <td>NaN</td>\n",
       "      <td>NaN</td>\n",
       "      <td>86.000000</td>\n",
       "      <td>17.000000</td>\n",
       "      <td>NaN</td>\n",
       "      <td>NaN</td>\n",
       "      <td>NaN</td>\n",
       "      <td>NaN</td>\n",
       "      <td>NaN</td>\n",
       "      <td>NaN</td>\n",
       "      <td>NaN</td>\n",
       "      <td>NaN</td>\n",
       "    </tr>\n",
       "    <tr>\n",
       "      <th>50%</th>\n",
       "      <td>NaN</td>\n",
       "      <td>NaN</td>\n",
       "      <td>NaN</td>\n",
       "      <td>88.000000</td>\n",
       "      <td>25.000000</td>\n",
       "      <td>NaN</td>\n",
       "      <td>NaN</td>\n",
       "      <td>NaN</td>\n",
       "      <td>NaN</td>\n",
       "      <td>NaN</td>\n",
       "      <td>NaN</td>\n",
       "      <td>NaN</td>\n",
       "      <td>NaN</td>\n",
       "    </tr>\n",
       "    <tr>\n",
       "      <th>75%</th>\n",
       "      <td>NaN</td>\n",
       "      <td>NaN</td>\n",
       "      <td>NaN</td>\n",
       "      <td>91.000000</td>\n",
       "      <td>42.000000</td>\n",
       "      <td>NaN</td>\n",
       "      <td>NaN</td>\n",
       "      <td>NaN</td>\n",
       "      <td>NaN</td>\n",
       "      <td>NaN</td>\n",
       "      <td>NaN</td>\n",
       "      <td>NaN</td>\n",
       "      <td>NaN</td>\n",
       "    </tr>\n",
       "    <tr>\n",
       "      <th>max</th>\n",
       "      <td>NaN</td>\n",
       "      <td>NaN</td>\n",
       "      <td>NaN</td>\n",
       "      <td>100.000000</td>\n",
       "      <td>3300.000000</td>\n",
       "      <td>NaN</td>\n",
       "      <td>NaN</td>\n",
       "      <td>NaN</td>\n",
       "      <td>NaN</td>\n",
       "      <td>NaN</td>\n",
       "      <td>NaN</td>\n",
       "      <td>NaN</td>\n",
       "      <td>NaN</td>\n",
       "    </tr>\n",
       "  </tbody>\n",
       "</table>\n",
       "</div>"
      ],
      "text/plain": [
       "       country                                        description designation  \\\n",
       "count   129908                                             129971       92506   \n",
       "unique      43                                             119955       37979   \n",
       "top         US  Seductively tart in lemon pith, cranberry and ...     Reserve   \n",
       "freq     54504                                                  3        2009   \n",
       "mean       NaN                                                NaN         NaN   \n",
       "std        NaN                                                NaN         NaN   \n",
       "min        NaN                                                NaN         NaN   \n",
       "25%        NaN                                                NaN         NaN   \n",
       "50%        NaN                                                NaN         NaN   \n",
       "75%        NaN                                                NaN         NaN   \n",
       "max        NaN                                                NaN         NaN   \n",
       "\n",
       "               points          price    province     region_1       region_2  \\\n",
       "count   129971.000000  120975.000000      129908       108724          50511   \n",
       "unique            NaN            NaN         425         1229             17   \n",
       "top               NaN            NaN  California  Napa Valley  Central Coast   \n",
       "freq              NaN            NaN       36247         4480          11065   \n",
       "mean        88.447138      35.363389         NaN          NaN            NaN   \n",
       "std          3.039730      41.022218         NaN          NaN            NaN   \n",
       "min         80.000000       4.000000         NaN          NaN            NaN   \n",
       "25%         86.000000      17.000000         NaN          NaN            NaN   \n",
       "50%         88.000000      25.000000         NaN          NaN            NaN   \n",
       "75%         91.000000      42.000000         NaN          NaN            NaN   \n",
       "max        100.000000    3300.000000         NaN          NaN            NaN   \n",
       "\n",
       "       taster_name taster_twitter_handle  \\\n",
       "count       103727                 98758   \n",
       "unique          19                    15   \n",
       "top     Roger Voss            @vossroger   \n",
       "freq         25514                 25514   \n",
       "mean           NaN                   NaN   \n",
       "std            NaN                   NaN   \n",
       "min            NaN                   NaN   \n",
       "25%            NaN                   NaN   \n",
       "50%            NaN                   NaN   \n",
       "75%            NaN                   NaN   \n",
       "max            NaN                   NaN   \n",
       "\n",
       "                                                    title     variety  \\\n",
       "count                                              129971      129970   \n",
       "unique                                             118840         707   \n",
       "top     Gloria Ferrer NV Sonoma Brut Sparkling (Sonoma...  Pinot Noir   \n",
       "freq                                                   11       13272   \n",
       "mean                                                  NaN         NaN   \n",
       "std                                                   NaN         NaN   \n",
       "min                                                   NaN         NaN   \n",
       "25%                                                   NaN         NaN   \n",
       "50%                                                   NaN         NaN   \n",
       "75%                                                   NaN         NaN   \n",
       "max                                                   NaN         NaN   \n",
       "\n",
       "                    winery  \n",
       "count               129971  \n",
       "unique               16757  \n",
       "top     Wines & Winemakers  \n",
       "freq                   222  \n",
       "mean                   NaN  \n",
       "std                    NaN  \n",
       "min                    NaN  \n",
       "25%                    NaN  \n",
       "50%                    NaN  \n",
       "75%                    NaN  \n",
       "max                    NaN  "
      ]
     },
     "execution_count": 10,
     "metadata": {},
     "output_type": "execute_result"
    }
   ],
   "source": [
    "wine.describe(include='all')"
   ]
  },
  {
   "cell_type": "markdown",
   "metadata": {
    "azdata_cell_guid": "d37f1a9a-370e-49f7-901e-aa2a2fe6e4e5"
   },
   "source": [
    "### Show a list of unique wine tasters"
   ]
  },
  {
   "cell_type": "code",
   "execution_count": 11,
   "metadata": {
    "azdata_cell_guid": "b5104132-b363-46b0-a452-563366fc7c8c"
   },
   "outputs": [
    {
     "data": {
      "text/plain": [
       "array(['Kerin O’Keefe', 'Roger Voss', 'Paul Gregutt',\n",
       "       'Alexander Peartree', 'Michael Schachner', 'Anna Lee C. Iijima',\n",
       "       'Virginie Boone', 'Matt Kettmann', nan, 'Sean P. Sullivan',\n",
       "       'Jim Gordon', 'Joe Czerwinski', 'Anne Krebiehl\\xa0MW',\n",
       "       'Lauren Buzzeo', 'Mike DeSimone', 'Jeff Jenssen',\n",
       "       'Susan Kostrzewa', 'Carrie Dykes', 'Fiona Adams',\n",
       "       'Christina Pickard'], dtype=object)"
      ]
     },
     "execution_count": 11,
     "metadata": {},
     "output_type": "execute_result"
    }
   ],
   "source": [
    "wine['taster_name'].unique()"
   ]
  },
  {
   "cell_type": "markdown",
   "metadata": {
    "azdata_cell_guid": "98168744-7e9e-4fde-91aa-cba644e3bfc9"
   },
   "source": [
    "### Show the unique counts of values for all columns in the `wine` dataframe"
   ]
  },
  {
   "cell_type": "code",
   "execution_count": 12,
   "metadata": {
    "azdata_cell_guid": "f3b9a8e5-fac0-4810-9099-1bccfa5e079c"
   },
   "outputs": [
    {
     "data": {
      "text/plain": [
       "country                      43\n",
       "description              119955\n",
       "designation               37979\n",
       "points                       21\n",
       "price                       390\n",
       "province                    425\n",
       "region_1                   1229\n",
       "region_2                     17\n",
       "taster_name                  19\n",
       "taster_twitter_handle        15\n",
       "title                    118840\n",
       "variety                     707\n",
       "winery                    16757\n",
       "dtype: int64"
      ]
     },
     "execution_count": 12,
     "metadata": {},
     "output_type": "execute_result"
    }
   ],
   "source": [
    "wine.nunique()"
   ]
  },
  {
   "cell_type": "code",
   "execution_count": 13,
   "metadata": {},
   "outputs": [
    {
     "name": "stdout",
     "output_type": "stream",
     "text": [
      "country                     63\n",
      "description                  0\n",
      "designation              37465\n",
      "points                       0\n",
      "price                     8996\n",
      "province                    63\n",
      "region_1                 21247\n",
      "region_2                 79460\n",
      "taster_name              26244\n",
      "taster_twitter_handle    31213\n",
      "title                        0\n",
      "variety                      1\n",
      "winery                       0\n",
      "dtype: int64\n"
     ]
    }
   ],
   "source": [
    "# Look at the null values\n",
    "\n",
    "print(wine.isnull().sum())"
   ]
  },
  {
   "cell_type": "markdown",
   "metadata": {
    "azdata_cell_guid": "e3e3b8bf-a3f0-4dfc-a8f0-625e792412fb"
   },
   "source": [
    "### Show how many times each tasters name occurs"
   ]
  },
  {
   "cell_type": "code",
   "execution_count": 14,
   "metadata": {
    "azdata_cell_guid": "57e426b2-737d-4cc1-8431-cf892538f429"
   },
   "outputs": [
    {
     "data": {
      "text/plain": [
       "Roger Voss            25514\n",
       "Michael Schachner     15134\n",
       "Kerin O’Keefe         10776\n",
       "Virginie Boone         9537\n",
       "Paul Gregutt           9532\n",
       "Matt Kettmann          6332\n",
       "Joe Czerwinski         5147\n",
       "Sean P. Sullivan       4966\n",
       "Anna Lee C. Iijima     4415\n",
       "Jim Gordon             4177\n",
       "Anne Krebiehl MW       3685\n",
       "Lauren Buzzeo          1835\n",
       "Susan Kostrzewa        1085\n",
       "Mike DeSimone           514\n",
       "Jeff Jenssen            491\n",
       "Alexander Peartree      415\n",
       "Carrie Dykes            139\n",
       "Fiona Adams              27\n",
       "Christina Pickard         6\n",
       "Name: taster_name, dtype: int64"
      ]
     },
     "execution_count": 14,
     "metadata": {},
     "output_type": "execute_result"
    }
   ],
   "source": [
    "wine['taster_name'].value_counts()"
   ]
  },
  {
   "cell_type": "markdown",
   "metadata": {
    "azdata_cell_guid": "6c453205-11bb-4ef7-b57c-3dd84d109d5d"
   },
   "source": [
    "# Section 1\n",
    "## Finding and Replacing Values"
   ]
  },
  {
   "cell_type": "markdown",
   "metadata": {
    "azdata_cell_guid": "37c01fcc-ac81-4283-8c8e-bc8251013686"
   },
   "source": [
    "### Q1: What is the data type of the `points` column in the winemag csv?"
   ]
  },
  {
   "cell_type": "code",
   "execution_count": 15,
   "metadata": {
    "azdata_cell_guid": "fe4ae4db-6587-4348-af75-ea10d6d51727"
   },
   "outputs": [
    {
     "data": {
      "text/plain": [
       "dtype('int64')"
      ]
     },
     "execution_count": 15,
     "metadata": {},
     "output_type": "execute_result"
    }
   ],
   "source": [
    "wine['points'].dtype"
   ]
  },
  {
   "cell_type": "markdown",
   "metadata": {
    "azdata_cell_guid": "5e2bf5b2-b68b-4a53-84e1-1724fc9c14e3"
   },
   "source": [
    "### Q2: Create a new Series from the records in the `points` column:\n"
   ]
  },
  {
   "cell_type": "code",
   "execution_count": 16,
   "metadata": {
    "azdata_cell_guid": "8762ccfc-ec41-4b30-95ff-6bf98ba01fbf"
   },
   "outputs": [
    {
     "data": {
      "text/plain": [
       "0         87\n",
       "1         87\n",
       "2         87\n",
       "3         87\n",
       "4         87\n",
       "          ..\n",
       "129966    90\n",
       "129967    90\n",
       "129968    90\n",
       "129969    90\n",
       "129970    90\n",
       "Name: points_string, Length: 129971, dtype: object"
      ]
     },
     "execution_count": 16,
     "metadata": {},
     "output_type": "execute_result"
    }
   ],
   "source": [
    "wine['points_string'] = wine['points'].map(lambda x: str(x))\n",
    "\n",
    "wine['points_string']"
   ]
  },
  {
   "cell_type": "code",
   "execution_count": 17,
   "metadata": {
    "azdata_cell_guid": "1c8938b1-d39f-403f-8fa0-f60a558b1080",
    "scrolled": true
   },
   "outputs": [
    {
     "data": {
      "text/html": [
       "<div>\n",
       "<style scoped>\n",
       "    .dataframe tbody tr th:only-of-type {\n",
       "        vertical-align: middle;\n",
       "    }\n",
       "\n",
       "    .dataframe tbody tr th {\n",
       "        vertical-align: top;\n",
       "    }\n",
       "\n",
       "    .dataframe thead th {\n",
       "        text-align: right;\n",
       "    }\n",
       "</style>\n",
       "<table border=\"1\" class=\"dataframe\">\n",
       "  <thead>\n",
       "    <tr style=\"text-align: right;\">\n",
       "      <th></th>\n",
       "      <th>country</th>\n",
       "      <th>description</th>\n",
       "      <th>designation</th>\n",
       "      <th>points</th>\n",
       "      <th>price</th>\n",
       "      <th>province</th>\n",
       "      <th>region_1</th>\n",
       "      <th>region_2</th>\n",
       "      <th>taster_name</th>\n",
       "      <th>taster_twitter_handle</th>\n",
       "      <th>title</th>\n",
       "      <th>variety</th>\n",
       "      <th>winery</th>\n",
       "      <th>points_string</th>\n",
       "    </tr>\n",
       "  </thead>\n",
       "  <tbody>\n",
       "    <tr>\n",
       "      <th>0</th>\n",
       "      <td>Italy</td>\n",
       "      <td>Aromas include tropical fruit, broom, brimston...</td>\n",
       "      <td>Vulkà Bianco</td>\n",
       "      <td>87</td>\n",
       "      <td>NaN</td>\n",
       "      <td>Sicily &amp; Sardinia</td>\n",
       "      <td>Etna</td>\n",
       "      <td>NaN</td>\n",
       "      <td>Kerin O’Keefe</td>\n",
       "      <td>@kerinokeefe</td>\n",
       "      <td>Nicosia 2013 Vulkà Bianco  (Etna)</td>\n",
       "      <td>White Blend</td>\n",
       "      <td>Nicosia</td>\n",
       "      <td>87</td>\n",
       "    </tr>\n",
       "    <tr>\n",
       "      <th>1</th>\n",
       "      <td>Portugal</td>\n",
       "      <td>This is ripe and fruity, a wine that is smooth...</td>\n",
       "      <td>Avidagos</td>\n",
       "      <td>87</td>\n",
       "      <td>15.0</td>\n",
       "      <td>Douro</td>\n",
       "      <td>NaN</td>\n",
       "      <td>NaN</td>\n",
       "      <td>Roger Voss</td>\n",
       "      <td>@vossroger</td>\n",
       "      <td>Quinta dos Avidagos 2011 Avidagos Red (Douro)</td>\n",
       "      <td>Portuguese Red</td>\n",
       "      <td>Quinta dos Avidagos</td>\n",
       "      <td>87</td>\n",
       "    </tr>\n",
       "    <tr>\n",
       "      <th>2</th>\n",
       "      <td>US</td>\n",
       "      <td>Tart and snappy, the flavors of lime flesh and...</td>\n",
       "      <td>NaN</td>\n",
       "      <td>87</td>\n",
       "      <td>14.0</td>\n",
       "      <td>Oregon</td>\n",
       "      <td>Willamette Valley</td>\n",
       "      <td>Willamette Valley</td>\n",
       "      <td>Paul Gregutt</td>\n",
       "      <td>@paulgwine</td>\n",
       "      <td>Rainstorm 2013 Pinot Gris (Willamette Valley)</td>\n",
       "      <td>Pinot Gris</td>\n",
       "      <td>Rainstorm</td>\n",
       "      <td>87</td>\n",
       "    </tr>\n",
       "    <tr>\n",
       "      <th>3</th>\n",
       "      <td>US</td>\n",
       "      <td>Pineapple rind, lemon pith and orange blossom ...</td>\n",
       "      <td>Reserve Late Harvest</td>\n",
       "      <td>87</td>\n",
       "      <td>13.0</td>\n",
       "      <td>Michigan</td>\n",
       "      <td>Lake Michigan Shore</td>\n",
       "      <td>NaN</td>\n",
       "      <td>Alexander Peartree</td>\n",
       "      <td>NaN</td>\n",
       "      <td>St. Julian 2013 Reserve Late Harvest Riesling ...</td>\n",
       "      <td>Riesling</td>\n",
       "      <td>St. Julian</td>\n",
       "      <td>87</td>\n",
       "    </tr>\n",
       "    <tr>\n",
       "      <th>4</th>\n",
       "      <td>US</td>\n",
       "      <td>Much like the regular bottling from 2012, this...</td>\n",
       "      <td>Vintner's Reserve Wild Child Block</td>\n",
       "      <td>87</td>\n",
       "      <td>65.0</td>\n",
       "      <td>Oregon</td>\n",
       "      <td>Willamette Valley</td>\n",
       "      <td>Willamette Valley</td>\n",
       "      <td>Paul Gregutt</td>\n",
       "      <td>@paulgwine</td>\n",
       "      <td>Sweet Cheeks 2012 Vintner's Reserve Wild Child...</td>\n",
       "      <td>Pinot Noir</td>\n",
       "      <td>Sweet Cheeks</td>\n",
       "      <td>87</td>\n",
       "    </tr>\n",
       "  </tbody>\n",
       "</table>\n",
       "</div>"
      ],
      "text/plain": [
       "    country                                        description  \\\n",
       "0     Italy  Aromas include tropical fruit, broom, brimston...   \n",
       "1  Portugal  This is ripe and fruity, a wine that is smooth...   \n",
       "2        US  Tart and snappy, the flavors of lime flesh and...   \n",
       "3        US  Pineapple rind, lemon pith and orange blossom ...   \n",
       "4        US  Much like the regular bottling from 2012, this...   \n",
       "\n",
       "                          designation  points  price           province  \\\n",
       "0                        Vulkà Bianco      87    NaN  Sicily & Sardinia   \n",
       "1                            Avidagos      87   15.0              Douro   \n",
       "2                                 NaN      87   14.0             Oregon   \n",
       "3                Reserve Late Harvest      87   13.0           Michigan   \n",
       "4  Vintner's Reserve Wild Child Block      87   65.0             Oregon   \n",
       "\n",
       "              region_1           region_2         taster_name  \\\n",
       "0                 Etna                NaN       Kerin O’Keefe   \n",
       "1                  NaN                NaN          Roger Voss   \n",
       "2    Willamette Valley  Willamette Valley        Paul Gregutt   \n",
       "3  Lake Michigan Shore                NaN  Alexander Peartree   \n",
       "4    Willamette Valley  Willamette Valley        Paul Gregutt   \n",
       "\n",
       "  taster_twitter_handle                                              title  \\\n",
       "0          @kerinokeefe                  Nicosia 2013 Vulkà Bianco  (Etna)   \n",
       "1            @vossroger      Quinta dos Avidagos 2011 Avidagos Red (Douro)   \n",
       "2           @paulgwine       Rainstorm 2013 Pinot Gris (Willamette Valley)   \n",
       "3                   NaN  St. Julian 2013 Reserve Late Harvest Riesling ...   \n",
       "4           @paulgwine   Sweet Cheeks 2012 Vintner's Reserve Wild Child...   \n",
       "\n",
       "          variety               winery points_string  \n",
       "0     White Blend              Nicosia            87  \n",
       "1  Portuguese Red  Quinta dos Avidagos            87  \n",
       "2      Pinot Gris            Rainstorm            87  \n",
       "3        Riesling           St. Julian            87  \n",
       "4      Pinot Noir         Sweet Cheeks            87  "
      ]
     },
     "execution_count": 17,
     "metadata": {},
     "output_type": "execute_result"
    }
   ],
   "source": [
    "wine['points_string'] = wine['points'].astype(str)\n",
    "\n",
    "wine.head()"
   ]
  },
  {
   "cell_type": "code",
   "execution_count": 18,
   "metadata": {
    "azdata_cell_guid": "a928b00a-9d7c-4b73-9217-4ebe86e4756d",
    "scrolled": true
   },
   "outputs": [
    {
     "data": {
      "text/plain": [
       "0    87\n",
       "1    87\n",
       "2    87\n",
       "3    87\n",
       "4    87\n",
       "Name: points_string, dtype: object"
      ]
     },
     "execution_count": 18,
     "metadata": {},
     "output_type": "execute_result"
    }
   ],
   "source": [
    "wine.points_string.head()"
   ]
  },
  {
   "cell_type": "markdown",
   "metadata": {
    "azdata_cell_guid": "83e1afee-22d4-4ff6-aa6e-945641cb1793"
   },
   "source": [
    "### Q3: How many reviews in the dataset are missing a price?"
   ]
  },
  {
   "cell_type": "code",
   "execution_count": 19,
   "metadata": {},
   "outputs": [
    {
     "data": {
      "text/plain": [
       "8996"
      ]
     },
     "execution_count": 19,
     "metadata": {},
     "output_type": "execute_result"
    }
   ],
   "source": [
    "wine['price'].isnull().sum()"
   ]
  },
  {
   "cell_type": "code",
   "execution_count": 20,
   "metadata": {
    "azdata_cell_guid": "9302f12e-59a0-4055-bd53-aa9208cac775"
   },
   "outputs": [
    {
     "data": {
      "text/plain": [
       "8996"
      ]
     },
     "execution_count": 20,
     "metadata": {},
     "output_type": "execute_result"
    }
   ],
   "source": [
    "len(wine[wine['price'].isnull()])"
   ]
  },
  {
   "cell_type": "markdown",
   "metadata": {
    "azdata_cell_guid": "3764dc06-f28e-4d1a-8050-1bf951fa8c59"
   },
   "source": [
    "### Q4: How many records are missing a review (points) score?"
   ]
  },
  {
   "cell_type": "code",
   "execution_count": 21,
   "metadata": {
    "azdata_cell_guid": "3808f5dd-da15-48a4-b9ad-45b7bc0f192b"
   },
   "outputs": [
    {
     "data": {
      "text/plain": [
       "0"
      ]
     },
     "execution_count": 21,
     "metadata": {},
     "output_type": "execute_result"
    }
   ],
   "source": [
    "len(wine[wine['points'].isnull()])"
   ]
  },
  {
   "cell_type": "markdown",
   "metadata": {
    "azdata_cell_guid": "d16fe34a-4cc2-4f70-b3ba-d35a3d29cd73"
   },
   "source": [
    "### Q5: How many null values are there in every column?"
   ]
  },
  {
   "cell_type": "code",
   "execution_count": 22,
   "metadata": {
    "azdata_cell_guid": "0cb3f938-5ccf-40ba-accc-d78e3521823d"
   },
   "outputs": [
    {
     "data": {
      "text/plain": [
       "country                     63\n",
       "description                  0\n",
       "designation              37465\n",
       "points                       0\n",
       "price                     8996\n",
       "province                    63\n",
       "region_1                 21247\n",
       "region_2                 79460\n",
       "taster_name              26244\n",
       "taster_twitter_handle    31213\n",
       "title                        0\n",
       "variety                      1\n",
       "winery                       0\n",
       "points_string                0\n",
       "dtype: int64"
      ]
     },
     "execution_count": 22,
     "metadata": {},
     "output_type": "execute_result"
    }
   ],
   "source": [
    "wine.isnull().sum()"
   ]
  },
  {
   "cell_type": "markdown",
   "metadata": {
    "azdata_cell_guid": "44c2a096-8129-4d0f-a059-d39cb6ce290d"
   },
   "source": [
    "### Q6: What are the most common wine-producing regions?\n",
    "#### Subquestion: how many wines are missing `region_1` in our dataset?"
   ]
  },
  {
   "cell_type": "code",
   "execution_count": 23,
   "metadata": {
    "azdata_cell_guid": "ec859d2b-e2e6-4c3d-81f5-b150e721587b"
   },
   "outputs": [
    {
     "data": {
      "text/plain": [
       "Unknown                    21247\n",
       "Napa Valley                 4480\n",
       "Columbia Valley (WA)        4124\n",
       "Russian River Valley        3091\n",
       "California                  2629\n",
       "                           ...  \n",
       "Lamezia                        1\n",
       "Trentino Superiore             1\n",
       "Grave del Friuli               1\n",
       "Vin Santo di Carmignano        1\n",
       "Paestum                        1\n",
       "Name: region_1, Length: 1230, dtype: int64"
      ]
     },
     "execution_count": 23,
     "metadata": {},
     "output_type": "execute_result"
    }
   ],
   "source": [
    "wine['region_1'].fillna('Unknown', inplace=True)\n",
    "\n",
    "region_reviews = wine['region_1'].value_counts()\n",
    "\n",
    "region_reviews"
   ]
  },
  {
   "cell_type": "markdown",
   "metadata": {
    "azdata_cell_guid": "85197c30-508d-40d7-8024-581b87dc1d76"
   },
   "source": [
    "#### Show the top 5 wine producing regions based on the `region_1` field"
   ]
  },
  {
   "cell_type": "code",
   "execution_count": 24,
   "metadata": {
    "azdata_cell_guid": "776ad50c-ac58-4e32-9454-3603352fc611"
   },
   "outputs": [
    {
     "data": {
      "text/plain": [
       "Napa Valley             4480\n",
       "Columbia Valley (WA)    4124\n",
       "Russian River Valley    3091\n",
       "California              2629\n",
       "Paso Robles             2350\n",
       "Name: region_1, dtype: int64"
      ]
     },
     "execution_count": 24,
     "metadata": {},
     "output_type": "execute_result"
    }
   ],
   "source": [
    "region_reviews[1:6]\n",
    "\n",
    "#If you didn't know Unknown was the top count then you can filter it out like this\n",
    "\n",
    "region_reviews.loc[region_reviews.index != 'Unknown'][:5]\n",
    "\n",
    "# Or using where()\n",
    "#region_reviews.where(region_reviews.index != 'Unknown').dropna()[:5]"
   ]
  },
  {
   "cell_type": "markdown",
   "metadata": {
    "azdata_cell_guid": "ec5308e4-6526-46fa-ac04-e3239c595c4d"
   },
   "source": [
    "# Section 2\n",
    "## Dealing with missing data"
   ]
  },
  {
   "cell_type": "markdown",
   "metadata": {
    "azdata_cell_guid": "82a6ddee-1b4a-4b72-bd85-2ea0fe2005b2"
   },
   "source": [
    "### Q7:  Calculate the mean price and store the mean in a variable, `meanPrice`\n",
    ">- Round to two decimal places"
   ]
  },
  {
   "cell_type": "code",
   "execution_count": 25,
   "metadata": {
    "azdata_cell_guid": "7778a79d-6f61-40d9-92bc-82d8979ef411"
   },
   "outputs": [
    {
     "data": {
      "text/plain": [
       "35.36"
      ]
     },
     "execution_count": 25,
     "metadata": {},
     "output_type": "execute_result"
    }
   ],
   "source": [
    "meanPrice = round(wine['price'].mean(),2)\n",
    "meanPrice"
   ]
  },
  {
   "cell_type": "markdown",
   "metadata": {
    "azdata_cell_guid": "03fc4b19-f4d8-4351-ba40-d3c4d2919299"
   },
   "source": [
    "### Q8: Replace all missing prices in the `wine` DataFrame with `meanPrice`"
   ]
  },
  {
   "cell_type": "code",
   "execution_count": 26,
   "metadata": {
    "azdata_cell_guid": "7fdfa5c1-e936-4858-9507-029c9626b5cb"
   },
   "outputs": [
    {
     "data": {
      "text/plain": [
       "0         35.36\n",
       "1         15.00\n",
       "2         14.00\n",
       "3         13.00\n",
       "4         65.00\n",
       "          ...  \n",
       "129966    28.00\n",
       "129967    75.00\n",
       "129968    30.00\n",
       "129969    32.00\n",
       "129970    21.00\n",
       "Name: priceImpute, Length: 129971, dtype: float64"
      ]
     },
     "execution_count": 26,
     "metadata": {},
     "output_type": "execute_result"
    }
   ],
   "source": [
    "wine['priceImpute'] = wine['price'].fillna(meanPrice)\n",
    "\n",
    "wine['priceImpute']"
   ]
  },
  {
   "cell_type": "code",
   "execution_count": 27,
   "metadata": {
    "azdata_cell_guid": "99e38ac4-8da6-4a85-980b-ea797f40d2a9"
   },
   "outputs": [
    {
     "data": {
      "text/plain": [
       "country                     63\n",
       "description                  0\n",
       "designation              37465\n",
       "points                       0\n",
       "price                     8996\n",
       "province                    63\n",
       "region_1                     0\n",
       "region_2                 79460\n",
       "taster_name              26244\n",
       "taster_twitter_handle    31213\n",
       "title                        0\n",
       "variety                      1\n",
       "winery                       0\n",
       "points_string                0\n",
       "priceImpute                  0\n",
       "dtype: int64"
      ]
     },
     "execution_count": 27,
     "metadata": {},
     "output_type": "execute_result"
    }
   ],
   "source": [
    "wine.isnull().sum()"
   ]
  },
  {
   "cell_type": "markdown",
   "metadata": {
    "azdata_cell_guid": "9fafca8b-fe4f-4311-aa1a-aef79af3ff63",
    "slideshow": {
     "slide_type": "subslide"
    }
   },
   "source": [
    "### Q9: What are the descriptive statistics for the original `price` column and the `priceImpute` column?"
   ]
  },
  {
   "cell_type": "code",
   "execution_count": 28,
   "metadata": {
    "azdata_cell_guid": "4240a155-7f3b-42fc-93b3-bceb328e7508"
   },
   "outputs": [
    {
     "data": {
      "text/html": [
       "<div>\n",
       "<style scoped>\n",
       "    .dataframe tbody tr th:only-of-type {\n",
       "        vertical-align: middle;\n",
       "    }\n",
       "\n",
       "    .dataframe tbody tr th {\n",
       "        vertical-align: top;\n",
       "    }\n",
       "\n",
       "    .dataframe thead th {\n",
       "        text-align: right;\n",
       "    }\n",
       "</style>\n",
       "<table border=\"1\" class=\"dataframe\">\n",
       "  <thead>\n",
       "    <tr style=\"text-align: right;\">\n",
       "      <th></th>\n",
       "      <th>price</th>\n",
       "      <th>priceImpute</th>\n",
       "    </tr>\n",
       "  </thead>\n",
       "  <tbody>\n",
       "    <tr>\n",
       "      <th>count</th>\n",
       "      <td>120975.00</td>\n",
       "      <td>129971.00</td>\n",
       "    </tr>\n",
       "    <tr>\n",
       "      <th>sum</th>\n",
       "      <td>4278086.00</td>\n",
       "      <td>4596184.56</td>\n",
       "    </tr>\n",
       "    <tr>\n",
       "      <th>mean</th>\n",
       "      <td>35.36</td>\n",
       "      <td>35.36</td>\n",
       "    </tr>\n",
       "  </tbody>\n",
       "</table>\n",
       "</div>"
      ],
      "text/plain": [
       "            price  priceImpute\n",
       "count   120975.00    129971.00\n",
       "sum    4278086.00   4596184.56\n",
       "mean        35.36        35.36"
      ]
     },
     "execution_count": 28,
     "metadata": {},
     "output_type": "execute_result"
    }
   ],
   "source": [
    "round(wine[['price','priceImpute']].agg(['count','sum','mean']),2)"
   ]
  },
  {
   "cell_type": "code",
   "execution_count": 29,
   "metadata": {
    "azdata_cell_guid": "949c9397-f431-48c8-8e7e-fbc2fee67e43"
   },
   "outputs": [
    {
     "data": {
      "text/html": [
       "<div>\n",
       "<style scoped>\n",
       "    .dataframe tbody tr th:only-of-type {\n",
       "        vertical-align: middle;\n",
       "    }\n",
       "\n",
       "    .dataframe tbody tr th {\n",
       "        vertical-align: top;\n",
       "    }\n",
       "\n",
       "    .dataframe thead th {\n",
       "        text-align: right;\n",
       "    }\n",
       "</style>\n",
       "<table border=\"1\" class=\"dataframe\">\n",
       "  <thead>\n",
       "    <tr style=\"text-align: right;\">\n",
       "      <th></th>\n",
       "      <th>price</th>\n",
       "      <th>priceImpute</th>\n",
       "    </tr>\n",
       "  </thead>\n",
       "  <tbody>\n",
       "    <tr>\n",
       "      <th>count</th>\n",
       "      <td>120975.000000</td>\n",
       "      <td>129971.000000</td>\n",
       "    </tr>\n",
       "    <tr>\n",
       "      <th>mean</th>\n",
       "      <td>35.363389</td>\n",
       "      <td>35.363155</td>\n",
       "    </tr>\n",
       "    <tr>\n",
       "      <th>std</th>\n",
       "      <td>41.022218</td>\n",
       "      <td>39.577066</td>\n",
       "    </tr>\n",
       "    <tr>\n",
       "      <th>min</th>\n",
       "      <td>4.000000</td>\n",
       "      <td>4.000000</td>\n",
       "    </tr>\n",
       "    <tr>\n",
       "      <th>25%</th>\n",
       "      <td>17.000000</td>\n",
       "      <td>18.000000</td>\n",
       "    </tr>\n",
       "    <tr>\n",
       "      <th>50%</th>\n",
       "      <td>25.000000</td>\n",
       "      <td>28.000000</td>\n",
       "    </tr>\n",
       "    <tr>\n",
       "      <th>75%</th>\n",
       "      <td>42.000000</td>\n",
       "      <td>40.000000</td>\n",
       "    </tr>\n",
       "    <tr>\n",
       "      <th>max</th>\n",
       "      <td>3300.000000</td>\n",
       "      <td>3300.000000</td>\n",
       "    </tr>\n",
       "  </tbody>\n",
       "</table>\n",
       "</div>"
      ],
      "text/plain": [
       "               price    priceImpute\n",
       "count  120975.000000  129971.000000\n",
       "mean       35.363389      35.363155\n",
       "std        41.022218      39.577066\n",
       "min         4.000000       4.000000\n",
       "25%        17.000000      18.000000\n",
       "50%        25.000000      28.000000\n",
       "75%        42.000000      40.000000\n",
       "max      3300.000000    3300.000000"
      ]
     },
     "execution_count": 29,
     "metadata": {},
     "output_type": "execute_result"
    }
   ],
   "source": [
    "wine[['price','priceImpute']].describe()"
   ]
  },
  {
   "cell_type": "markdown",
   "metadata": {
    "azdata_cell_guid": "fe4cef96-d962-4512-8222-4340783ba7cb",
    "slideshow": {
     "slide_type": "subslide"
    }
   },
   "source": [
    "### Q10: Create a column, `imputeFlag`, that stores a 1 if the record used an imputed mean and a 0 if it does not"
   ]
  },
  {
   "cell_type": "markdown",
   "metadata": {
    "azdata_cell_guid": "360a3452-8844-4435-b0d2-330bff164eb3"
   },
   "source": [
    "### One way to do this is to use the `map()` function"
   ]
  },
  {
   "cell_type": "code",
   "execution_count": 30,
   "metadata": {
    "azdata_cell_guid": "99e11d29-ea9e-40f9-9cf7-8a956333b480"
   },
   "outputs": [],
   "source": [
    "# Defining a function to impute 0's and 1's based on criteria\n",
    "\n",
    "def impute(row):\n",
    "    \n",
    "    if row > 0:\n",
    "        \n",
    "        return 0\n",
    "    \n",
    "    else:\n",
    "        return 1\n",
    "        \n",
    "    return row"
   ]
  },
  {
   "cell_type": "code",
   "execution_count": 31,
   "metadata": {
    "azdata_cell_guid": "422d3baa-01b5-484c-a9d1-d2fc2313c8d0"
   },
   "outputs": [],
   "source": [
    "wine['imputeFlag'] = wine['price'].map(impute)"
   ]
  },
  {
   "cell_type": "markdown",
   "metadata": {
    "azdata_cell_guid": "70c258c0-601e-4763-8d2d-5b06203f5a45"
   },
   "source": [
    "#### You could also use a `lambda` function within `map()`"
   ]
  },
  {
   "cell_type": "code",
   "execution_count": 32,
   "metadata": {
    "azdata_cell_guid": "2ba4035e-9069-4939-99f9-37dbf33057fc"
   },
   "outputs": [
    {
     "data": {
      "text/plain": [
       "0         1\n",
       "1         0\n",
       "2         0\n",
       "3         0\n",
       "4         0\n",
       "         ..\n",
       "129966    0\n",
       "129967    0\n",
       "129968    0\n",
       "129969    0\n",
       "129970    0\n",
       "Name: imputeFlag, Length: 129971, dtype: int64"
      ]
     },
     "execution_count": 32,
     "metadata": {},
     "output_type": "execute_result"
    }
   ],
   "source": [
    "wine['imputeFlag'] = wine['price'].map(lambda row: 0 if row >0 else 1)\n",
    "\n",
    "wine['imputeFlag']"
   ]
  },
  {
   "cell_type": "markdown",
   "metadata": {
    "azdata_cell_guid": "5df534f4-8e4b-4772-9ad8-1bac5033beaa"
   },
   "source": [
    "#### Show the first five records of `wine` with all of your changes"
   ]
  },
  {
   "cell_type": "code",
   "execution_count": 33,
   "metadata": {
    "azdata_cell_guid": "10ce5514-9e3f-4ace-8f8f-687fd3811b89"
   },
   "outputs": [
    {
     "data": {
      "text/html": [
       "<div>\n",
       "<style scoped>\n",
       "    .dataframe tbody tr th:only-of-type {\n",
       "        vertical-align: middle;\n",
       "    }\n",
       "\n",
       "    .dataframe tbody tr th {\n",
       "        vertical-align: top;\n",
       "    }\n",
       "\n",
       "    .dataframe thead th {\n",
       "        text-align: right;\n",
       "    }\n",
       "</style>\n",
       "<table border=\"1\" class=\"dataframe\">\n",
       "  <thead>\n",
       "    <tr style=\"text-align: right;\">\n",
       "      <th></th>\n",
       "      <th>country</th>\n",
       "      <th>description</th>\n",
       "      <th>designation</th>\n",
       "      <th>points</th>\n",
       "      <th>price</th>\n",
       "      <th>province</th>\n",
       "      <th>region_1</th>\n",
       "      <th>region_2</th>\n",
       "      <th>taster_name</th>\n",
       "      <th>taster_twitter_handle</th>\n",
       "      <th>title</th>\n",
       "      <th>variety</th>\n",
       "      <th>winery</th>\n",
       "      <th>points_string</th>\n",
       "      <th>priceImpute</th>\n",
       "      <th>imputeFlag</th>\n",
       "    </tr>\n",
       "  </thead>\n",
       "  <tbody>\n",
       "    <tr>\n",
       "      <th>0</th>\n",
       "      <td>Italy</td>\n",
       "      <td>Aromas include tropical fruit, broom, brimston...</td>\n",
       "      <td>Vulkà Bianco</td>\n",
       "      <td>87</td>\n",
       "      <td>NaN</td>\n",
       "      <td>Sicily &amp; Sardinia</td>\n",
       "      <td>Etna</td>\n",
       "      <td>NaN</td>\n",
       "      <td>Kerin O’Keefe</td>\n",
       "      <td>@kerinokeefe</td>\n",
       "      <td>Nicosia 2013 Vulkà Bianco  (Etna)</td>\n",
       "      <td>White Blend</td>\n",
       "      <td>Nicosia</td>\n",
       "      <td>87</td>\n",
       "      <td>35.36</td>\n",
       "      <td>1</td>\n",
       "    </tr>\n",
       "    <tr>\n",
       "      <th>1</th>\n",
       "      <td>Portugal</td>\n",
       "      <td>This is ripe and fruity, a wine that is smooth...</td>\n",
       "      <td>Avidagos</td>\n",
       "      <td>87</td>\n",
       "      <td>15.0</td>\n",
       "      <td>Douro</td>\n",
       "      <td>Unknown</td>\n",
       "      <td>NaN</td>\n",
       "      <td>Roger Voss</td>\n",
       "      <td>@vossroger</td>\n",
       "      <td>Quinta dos Avidagos 2011 Avidagos Red (Douro)</td>\n",
       "      <td>Portuguese Red</td>\n",
       "      <td>Quinta dos Avidagos</td>\n",
       "      <td>87</td>\n",
       "      <td>15.00</td>\n",
       "      <td>0</td>\n",
       "    </tr>\n",
       "    <tr>\n",
       "      <th>2</th>\n",
       "      <td>US</td>\n",
       "      <td>Tart and snappy, the flavors of lime flesh and...</td>\n",
       "      <td>NaN</td>\n",
       "      <td>87</td>\n",
       "      <td>14.0</td>\n",
       "      <td>Oregon</td>\n",
       "      <td>Willamette Valley</td>\n",
       "      <td>Willamette Valley</td>\n",
       "      <td>Paul Gregutt</td>\n",
       "      <td>@paulgwine</td>\n",
       "      <td>Rainstorm 2013 Pinot Gris (Willamette Valley)</td>\n",
       "      <td>Pinot Gris</td>\n",
       "      <td>Rainstorm</td>\n",
       "      <td>87</td>\n",
       "      <td>14.00</td>\n",
       "      <td>0</td>\n",
       "    </tr>\n",
       "    <tr>\n",
       "      <th>3</th>\n",
       "      <td>US</td>\n",
       "      <td>Pineapple rind, lemon pith and orange blossom ...</td>\n",
       "      <td>Reserve Late Harvest</td>\n",
       "      <td>87</td>\n",
       "      <td>13.0</td>\n",
       "      <td>Michigan</td>\n",
       "      <td>Lake Michigan Shore</td>\n",
       "      <td>NaN</td>\n",
       "      <td>Alexander Peartree</td>\n",
       "      <td>NaN</td>\n",
       "      <td>St. Julian 2013 Reserve Late Harvest Riesling ...</td>\n",
       "      <td>Riesling</td>\n",
       "      <td>St. Julian</td>\n",
       "      <td>87</td>\n",
       "      <td>13.00</td>\n",
       "      <td>0</td>\n",
       "    </tr>\n",
       "    <tr>\n",
       "      <th>4</th>\n",
       "      <td>US</td>\n",
       "      <td>Much like the regular bottling from 2012, this...</td>\n",
       "      <td>Vintner's Reserve Wild Child Block</td>\n",
       "      <td>87</td>\n",
       "      <td>65.0</td>\n",
       "      <td>Oregon</td>\n",
       "      <td>Willamette Valley</td>\n",
       "      <td>Willamette Valley</td>\n",
       "      <td>Paul Gregutt</td>\n",
       "      <td>@paulgwine</td>\n",
       "      <td>Sweet Cheeks 2012 Vintner's Reserve Wild Child...</td>\n",
       "      <td>Pinot Noir</td>\n",
       "      <td>Sweet Cheeks</td>\n",
       "      <td>87</td>\n",
       "      <td>65.00</td>\n",
       "      <td>0</td>\n",
       "    </tr>\n",
       "  </tbody>\n",
       "</table>\n",
       "</div>"
      ],
      "text/plain": [
       "    country                                        description  \\\n",
       "0     Italy  Aromas include tropical fruit, broom, brimston...   \n",
       "1  Portugal  This is ripe and fruity, a wine that is smooth...   \n",
       "2        US  Tart and snappy, the flavors of lime flesh and...   \n",
       "3        US  Pineapple rind, lemon pith and orange blossom ...   \n",
       "4        US  Much like the regular bottling from 2012, this...   \n",
       "\n",
       "                          designation  points  price           province  \\\n",
       "0                        Vulkà Bianco      87    NaN  Sicily & Sardinia   \n",
       "1                            Avidagos      87   15.0              Douro   \n",
       "2                                 NaN      87   14.0             Oregon   \n",
       "3                Reserve Late Harvest      87   13.0           Michigan   \n",
       "4  Vintner's Reserve Wild Child Block      87   65.0             Oregon   \n",
       "\n",
       "              region_1           region_2         taster_name  \\\n",
       "0                 Etna                NaN       Kerin O’Keefe   \n",
       "1              Unknown                NaN          Roger Voss   \n",
       "2    Willamette Valley  Willamette Valley        Paul Gregutt   \n",
       "3  Lake Michigan Shore                NaN  Alexander Peartree   \n",
       "4    Willamette Valley  Willamette Valley        Paul Gregutt   \n",
       "\n",
       "  taster_twitter_handle                                              title  \\\n",
       "0          @kerinokeefe                  Nicosia 2013 Vulkà Bianco  (Etna)   \n",
       "1            @vossroger      Quinta dos Avidagos 2011 Avidagos Red (Douro)   \n",
       "2           @paulgwine       Rainstorm 2013 Pinot Gris (Willamette Valley)   \n",
       "3                   NaN  St. Julian 2013 Reserve Late Harvest Riesling ...   \n",
       "4           @paulgwine   Sweet Cheeks 2012 Vintner's Reserve Wild Child...   \n",
       "\n",
       "          variety               winery points_string  priceImpute  imputeFlag  \n",
       "0     White Blend              Nicosia            87        35.36           1  \n",
       "1  Portuguese Red  Quinta dos Avidagos            87        15.00           0  \n",
       "2      Pinot Gris            Rainstorm            87        14.00           0  \n",
       "3        Riesling           St. Julian            87        13.00           0  \n",
       "4      Pinot Noir         Sweet Cheeks            87        65.00           0  "
      ]
     },
     "execution_count": 33,
     "metadata": {},
     "output_type": "execute_result"
    }
   ],
   "source": [
    "wine.head()"
   ]
  },
  {
   "cell_type": "markdown",
   "metadata": {
    "azdata_cell_guid": "d8aa2e5c-9746-4dde-a68b-9e7061df4cde"
   },
   "source": [
    "#### Show all the column names in `wine`"
   ]
  },
  {
   "cell_type": "code",
   "execution_count": 34,
   "metadata": {
    "azdata_cell_guid": "1a2488eb-3baa-4b75-b65f-8165382471e4"
   },
   "outputs": [
    {
     "data": {
      "text/plain": [
       "Index(['country', 'description', 'designation', 'points', 'price', 'province',\n",
       "       'region_1', 'region_2', 'taster_name', 'taster_twitter_handle', 'title',\n",
       "       'variety', 'winery', 'points_string', 'priceImpute', 'imputeFlag'],\n",
       "      dtype='object')"
      ]
     },
     "execution_count": 34,
     "metadata": {},
     "output_type": "execute_result"
    }
   ],
   "source": [
    "wine.columns"
   ]
  },
  {
   "cell_type": "markdown",
   "metadata": {
    "azdata_cell_guid": "8e1835d0-af11-495f-bc11-c99cc76cba0c"
   },
   "source": [
    "#### Show the total null values in each column in `wine`"
   ]
  },
  {
   "cell_type": "code",
   "execution_count": 35,
   "metadata": {
    "azdata_cell_guid": "0801f850-154a-4b45-82eb-a72fdd1a9236"
   },
   "outputs": [
    {
     "data": {
      "text/plain": [
       "country                     63\n",
       "description                  0\n",
       "designation              37465\n",
       "points                       0\n",
       "price                     8996\n",
       "province                    63\n",
       "region_1                     0\n",
       "region_2                 79460\n",
       "taster_name              26244\n",
       "taster_twitter_handle    31213\n",
       "title                        0\n",
       "variety                      1\n",
       "winery                       0\n",
       "points_string                0\n",
       "priceImpute                  0\n",
       "imputeFlag                   0\n",
       "dtype: int64"
      ]
     },
     "execution_count": 35,
     "metadata": {},
     "output_type": "execute_result"
    }
   ],
   "source": [
    "wine.isnull().sum()"
   ]
  },
  {
   "cell_type": "markdown",
   "metadata": {
    "azdata_cell_guid": "bdad6d6f-cd8c-4df3-aef6-4da8fa4e9254"
   },
   "source": [
    "# Section 3\n",
    "1. Renaming Columns\n",
    "2. More Descriptive Analytics Practice"
   ]
  },
  {
   "cell_type": "markdown",
   "metadata": {
    "azdata_cell_guid": "ae10628b-3494-46f6-be30-6a2a169708c3"
   },
   "source": [
    "### Q11: Create a new DataFrame, wineUS, from `wine` for only US wines"
   ]
  },
  {
   "cell_type": "code",
   "execution_count": 36,
   "metadata": {
    "azdata_cell_guid": "fc132c53-53e6-4c26-b9f3-0bf25647d380"
   },
   "outputs": [],
   "source": [
    "wineUS = wine.loc[wine['country']=='US']"
   ]
  },
  {
   "cell_type": "code",
   "execution_count": 37,
   "metadata": {
    "azdata_cell_guid": "7fb76469-11b3-4e3a-ac89-b3b9fa39b3af"
   },
   "outputs": [
    {
     "data": {
      "text/html": [
       "<div>\n",
       "<style scoped>\n",
       "    .dataframe tbody tr th:only-of-type {\n",
       "        vertical-align: middle;\n",
       "    }\n",
       "\n",
       "    .dataframe tbody tr th {\n",
       "        vertical-align: top;\n",
       "    }\n",
       "\n",
       "    .dataframe thead th {\n",
       "        text-align: right;\n",
       "    }\n",
       "</style>\n",
       "<table border=\"1\" class=\"dataframe\">\n",
       "  <thead>\n",
       "    <tr style=\"text-align: right;\">\n",
       "      <th></th>\n",
       "      <th>country</th>\n",
       "      <th>description</th>\n",
       "      <th>designation</th>\n",
       "      <th>points</th>\n",
       "      <th>price</th>\n",
       "      <th>province</th>\n",
       "      <th>region_1</th>\n",
       "      <th>region_2</th>\n",
       "      <th>taster_name</th>\n",
       "      <th>taster_twitter_handle</th>\n",
       "      <th>title</th>\n",
       "      <th>variety</th>\n",
       "      <th>winery</th>\n",
       "      <th>points_string</th>\n",
       "      <th>priceImpute</th>\n",
       "      <th>imputeFlag</th>\n",
       "    </tr>\n",
       "  </thead>\n",
       "  <tbody>\n",
       "    <tr>\n",
       "      <th>2</th>\n",
       "      <td>US</td>\n",
       "      <td>Tart and snappy, the flavors of lime flesh and...</td>\n",
       "      <td>NaN</td>\n",
       "      <td>87</td>\n",
       "      <td>14.0</td>\n",
       "      <td>Oregon</td>\n",
       "      <td>Willamette Valley</td>\n",
       "      <td>Willamette Valley</td>\n",
       "      <td>Paul Gregutt</td>\n",
       "      <td>@paulgwine</td>\n",
       "      <td>Rainstorm 2013 Pinot Gris (Willamette Valley)</td>\n",
       "      <td>Pinot Gris</td>\n",
       "      <td>Rainstorm</td>\n",
       "      <td>87</td>\n",
       "      <td>14.0</td>\n",
       "      <td>0</td>\n",
       "    </tr>\n",
       "    <tr>\n",
       "      <th>3</th>\n",
       "      <td>US</td>\n",
       "      <td>Pineapple rind, lemon pith and orange blossom ...</td>\n",
       "      <td>Reserve Late Harvest</td>\n",
       "      <td>87</td>\n",
       "      <td>13.0</td>\n",
       "      <td>Michigan</td>\n",
       "      <td>Lake Michigan Shore</td>\n",
       "      <td>NaN</td>\n",
       "      <td>Alexander Peartree</td>\n",
       "      <td>NaN</td>\n",
       "      <td>St. Julian 2013 Reserve Late Harvest Riesling ...</td>\n",
       "      <td>Riesling</td>\n",
       "      <td>St. Julian</td>\n",
       "      <td>87</td>\n",
       "      <td>13.0</td>\n",
       "      <td>0</td>\n",
       "    </tr>\n",
       "    <tr>\n",
       "      <th>4</th>\n",
       "      <td>US</td>\n",
       "      <td>Much like the regular bottling from 2012, this...</td>\n",
       "      <td>Vintner's Reserve Wild Child Block</td>\n",
       "      <td>87</td>\n",
       "      <td>65.0</td>\n",
       "      <td>Oregon</td>\n",
       "      <td>Willamette Valley</td>\n",
       "      <td>Willamette Valley</td>\n",
       "      <td>Paul Gregutt</td>\n",
       "      <td>@paulgwine</td>\n",
       "      <td>Sweet Cheeks 2012 Vintner's Reserve Wild Child...</td>\n",
       "      <td>Pinot Noir</td>\n",
       "      <td>Sweet Cheeks</td>\n",
       "      <td>87</td>\n",
       "      <td>65.0</td>\n",
       "      <td>0</td>\n",
       "    </tr>\n",
       "    <tr>\n",
       "      <th>10</th>\n",
       "      <td>US</td>\n",
       "      <td>Soft, supple plum envelopes an oaky structure ...</td>\n",
       "      <td>Mountain Cuvée</td>\n",
       "      <td>87</td>\n",
       "      <td>19.0</td>\n",
       "      <td>California</td>\n",
       "      <td>Napa Valley</td>\n",
       "      <td>Napa</td>\n",
       "      <td>Virginie Boone</td>\n",
       "      <td>@vboone</td>\n",
       "      <td>Kirkland Signature 2011 Mountain Cuvée Caberne...</td>\n",
       "      <td>Cabernet Sauvignon</td>\n",
       "      <td>Kirkland Signature</td>\n",
       "      <td>87</td>\n",
       "      <td>19.0</td>\n",
       "      <td>0</td>\n",
       "    </tr>\n",
       "    <tr>\n",
       "      <th>12</th>\n",
       "      <td>US</td>\n",
       "      <td>Slightly reduced, this wine offers a chalky, t...</td>\n",
       "      <td>NaN</td>\n",
       "      <td>87</td>\n",
       "      <td>34.0</td>\n",
       "      <td>California</td>\n",
       "      <td>Alexander Valley</td>\n",
       "      <td>Sonoma</td>\n",
       "      <td>Virginie Boone</td>\n",
       "      <td>@vboone</td>\n",
       "      <td>Louis M. Martini 2012 Cabernet Sauvignon (Alex...</td>\n",
       "      <td>Cabernet Sauvignon</td>\n",
       "      <td>Louis M. Martini</td>\n",
       "      <td>87</td>\n",
       "      <td>34.0</td>\n",
       "      <td>0</td>\n",
       "    </tr>\n",
       "  </tbody>\n",
       "</table>\n",
       "</div>"
      ],
      "text/plain": [
       "   country                                        description  \\\n",
       "2       US  Tart and snappy, the flavors of lime flesh and...   \n",
       "3       US  Pineapple rind, lemon pith and orange blossom ...   \n",
       "4       US  Much like the regular bottling from 2012, this...   \n",
       "10      US  Soft, supple plum envelopes an oaky structure ...   \n",
       "12      US  Slightly reduced, this wine offers a chalky, t...   \n",
       "\n",
       "                           designation  points  price    province  \\\n",
       "2                                  NaN      87   14.0      Oregon   \n",
       "3                 Reserve Late Harvest      87   13.0    Michigan   \n",
       "4   Vintner's Reserve Wild Child Block      87   65.0      Oregon   \n",
       "10                      Mountain Cuvée      87   19.0  California   \n",
       "12                                 NaN      87   34.0  California   \n",
       "\n",
       "               region_1           region_2         taster_name  \\\n",
       "2     Willamette Valley  Willamette Valley        Paul Gregutt   \n",
       "3   Lake Michigan Shore                NaN  Alexander Peartree   \n",
       "4     Willamette Valley  Willamette Valley        Paul Gregutt   \n",
       "10          Napa Valley               Napa      Virginie Boone   \n",
       "12     Alexander Valley             Sonoma      Virginie Boone   \n",
       "\n",
       "   taster_twitter_handle                                              title  \\\n",
       "2            @paulgwine       Rainstorm 2013 Pinot Gris (Willamette Valley)   \n",
       "3                    NaN  St. Julian 2013 Reserve Late Harvest Riesling ...   \n",
       "4            @paulgwine   Sweet Cheeks 2012 Vintner's Reserve Wild Child...   \n",
       "10               @vboone  Kirkland Signature 2011 Mountain Cuvée Caberne...   \n",
       "12               @vboone  Louis M. Martini 2012 Cabernet Sauvignon (Alex...   \n",
       "\n",
       "               variety              winery points_string  priceImpute  \\\n",
       "2           Pinot Gris           Rainstorm            87         14.0   \n",
       "3             Riesling          St. Julian            87         13.0   \n",
       "4           Pinot Noir        Sweet Cheeks            87         65.0   \n",
       "10  Cabernet Sauvignon  Kirkland Signature            87         19.0   \n",
       "12  Cabernet Sauvignon    Louis M. Martini            87         34.0   \n",
       "\n",
       "    imputeFlag  \n",
       "2            0  \n",
       "3            0  \n",
       "4            0  \n",
       "10           0  \n",
       "12           0  "
      ]
     },
     "execution_count": 37,
     "metadata": {},
     "output_type": "execute_result"
    }
   ],
   "source": [
    "wineUS.head()"
   ]
  },
  {
   "cell_type": "code",
   "execution_count": 38,
   "metadata": {
    "azdata_cell_guid": "55d87564-a108-4086-bec1-2cb572603bfe"
   },
   "outputs": [
    {
     "data": {
      "text/plain": [
       "(54504, 16)"
      ]
     },
     "execution_count": 38,
     "metadata": {},
     "output_type": "execute_result"
    }
   ],
   "source": [
    "wineUS.shape"
   ]
  },
  {
   "cell_type": "code",
   "execution_count": 39,
   "metadata": {
    "azdata_cell_guid": "5631fdd3-1152-4f9c-9f9e-3501b1e54a47"
   },
   "outputs": [
    {
     "data": {
      "text/plain": [
       "Index(['country', 'description', 'designation', 'points', 'price', 'province',\n",
       "       'region_1', 'region_2', 'taster_name', 'taster_twitter_handle', 'title',\n",
       "       'variety', 'winery', 'points_string', 'priceImpute', 'imputeFlag'],\n",
       "      dtype='object')"
      ]
     },
     "execution_count": 39,
     "metadata": {},
     "output_type": "execute_result"
    }
   ],
   "source": [
    "wineUS.columns"
   ]
  },
  {
   "cell_type": "code",
   "execution_count": 40,
   "metadata": {
    "azdata_cell_guid": "bd4e491a-ff67-4512-8799-9df5949c3ea4"
   },
   "outputs": [
    {
     "data": {
      "text/plain": [
       "country                  54504\n",
       "description              54504\n",
       "designation              36908\n",
       "points                   54504\n",
       "price                    54265\n",
       "province                 54504\n",
       "region_1                 54504\n",
       "region_2                 50511\n",
       "taster_name              37730\n",
       "taster_twitter_handle    34741\n",
       "title                    54504\n",
       "variety                  54504\n",
       "winery                   54504\n",
       "points_string            54504\n",
       "priceImpute              54504\n",
       "imputeFlag               54504\n",
       "dtype: int64"
      ]
     },
     "execution_count": 40,
     "metadata": {},
     "output_type": "execute_result"
    }
   ],
   "source": [
    "wineUS.count()"
   ]
  },
  {
   "cell_type": "code",
   "execution_count": 41,
   "metadata": {
    "azdata_cell_guid": "b63d75b7-2425-4f00-b773-9fcb7bd46d5e"
   },
   "outputs": [
    {
     "data": {
      "text/plain": [
       "country                      0\n",
       "description                  0\n",
       "designation              17596\n",
       "points                       0\n",
       "price                      239\n",
       "province                     0\n",
       "region_1                     0\n",
       "region_2                  3993\n",
       "taster_name              16774\n",
       "taster_twitter_handle    19763\n",
       "title                        0\n",
       "variety                      0\n",
       "winery                       0\n",
       "points_string                0\n",
       "priceImpute                  0\n",
       "imputeFlag                   0\n",
       "dtype: int64"
      ]
     },
     "execution_count": 41,
     "metadata": {},
     "output_type": "execute_result"
    }
   ],
   "source": [
    "wineUS.isnull().sum()"
   ]
  },
  {
   "cell_type": "markdown",
   "metadata": {
    "azdata_cell_guid": "78ba339b-8701-4534-a19c-d991ebc9cff2"
   },
   "source": [
    "### Q12: How many records/rows have null prices?"
   ]
  },
  {
   "cell_type": "code",
   "execution_count": 42,
   "metadata": {
    "azdata_cell_guid": "89df18ec-05f5-4dc2-b422-07950c4c670a"
   },
   "outputs": [
    {
     "data": {
      "text/plain": [
       "8996"
      ]
     },
     "execution_count": 42,
     "metadata": {},
     "output_type": "execute_result"
    }
   ],
   "source": [
    "wine['price'].isnull().sum()"
   ]
  },
  {
   "cell_type": "markdown",
   "metadata": {
    "azdata_cell_guid": "80f332c2-5cb0-4453-9c88-7327e76d23fb"
   },
   "source": [
    "### Q12: Rename the following columns\n",
    ">- 'province' to 'state'\n",
    ">- 'taster_name' to 'taster'\n",
    ">- 'taster_twitter_handle' to 'twitter_handle'\n",
    ">- 'points' to 'rating'\n",
    "\n",
    "##### Note: Make all of these name changes in-place"
   ]
  },
  {
   "cell_type": "code",
   "execution_count": 43,
   "metadata": {
    "azdata_cell_guid": "bf8805bb-9c2f-47d0-af50-232f13445a9f"
   },
   "outputs": [
    {
     "name": "stderr",
     "output_type": "stream",
     "text": [
      "C:\\Users\\vrohi\\AppData\\Local\\Temp\\ipykernel_9776\\389786198.py:1: SettingWithCopyWarning: \n",
      "A value is trying to be set on a copy of a slice from a DataFrame\n",
      "\n",
      "See the caveats in the documentation: https://pandas.pydata.org/pandas-docs/stable/user_guide/indexing.html#returning-a-view-versus-a-copy\n",
      "  wineUS.rename(columns = {'province':'state',\n"
     ]
    }
   ],
   "source": [
    "wineUS.rename(columns = {'province':'state',\n",
    "                         'taster_name':'taster',\n",
    "                         'taster_twitter_handle':'twitter_handle',\n",
    "                         'points':'rating'\n",
    "                         }, inplace = True)"
   ]
  },
  {
   "cell_type": "markdown",
   "metadata": {
    "azdata_cell_guid": "5d765e3a-7414-416c-931c-93b24cf8d772"
   },
   "source": [
    "#### Show the first 5 records after your change"
   ]
  },
  {
   "cell_type": "code",
   "execution_count": 44,
   "metadata": {
    "azdata_cell_guid": "a21832bc-225c-4d42-8e10-caf5285cc02f"
   },
   "outputs": [
    {
     "data": {
      "text/html": [
       "<div>\n",
       "<style scoped>\n",
       "    .dataframe tbody tr th:only-of-type {\n",
       "        vertical-align: middle;\n",
       "    }\n",
       "\n",
       "    .dataframe tbody tr th {\n",
       "        vertical-align: top;\n",
       "    }\n",
       "\n",
       "    .dataframe thead th {\n",
       "        text-align: right;\n",
       "    }\n",
       "</style>\n",
       "<table border=\"1\" class=\"dataframe\">\n",
       "  <thead>\n",
       "    <tr style=\"text-align: right;\">\n",
       "      <th></th>\n",
       "      <th>country</th>\n",
       "      <th>description</th>\n",
       "      <th>designation</th>\n",
       "      <th>rating</th>\n",
       "      <th>price</th>\n",
       "      <th>state</th>\n",
       "      <th>region_1</th>\n",
       "      <th>region_2</th>\n",
       "      <th>taster</th>\n",
       "      <th>twitter_handle</th>\n",
       "      <th>title</th>\n",
       "      <th>variety</th>\n",
       "      <th>winery</th>\n",
       "      <th>points_string</th>\n",
       "      <th>priceImpute</th>\n",
       "      <th>imputeFlag</th>\n",
       "    </tr>\n",
       "  </thead>\n",
       "  <tbody>\n",
       "    <tr>\n",
       "      <th>2</th>\n",
       "      <td>US</td>\n",
       "      <td>Tart and snappy, the flavors of lime flesh and...</td>\n",
       "      <td>NaN</td>\n",
       "      <td>87</td>\n",
       "      <td>14.0</td>\n",
       "      <td>Oregon</td>\n",
       "      <td>Willamette Valley</td>\n",
       "      <td>Willamette Valley</td>\n",
       "      <td>Paul Gregutt</td>\n",
       "      <td>@paulgwine</td>\n",
       "      <td>Rainstorm 2013 Pinot Gris (Willamette Valley)</td>\n",
       "      <td>Pinot Gris</td>\n",
       "      <td>Rainstorm</td>\n",
       "      <td>87</td>\n",
       "      <td>14.0</td>\n",
       "      <td>0</td>\n",
       "    </tr>\n",
       "    <tr>\n",
       "      <th>3</th>\n",
       "      <td>US</td>\n",
       "      <td>Pineapple rind, lemon pith and orange blossom ...</td>\n",
       "      <td>Reserve Late Harvest</td>\n",
       "      <td>87</td>\n",
       "      <td>13.0</td>\n",
       "      <td>Michigan</td>\n",
       "      <td>Lake Michigan Shore</td>\n",
       "      <td>NaN</td>\n",
       "      <td>Alexander Peartree</td>\n",
       "      <td>NaN</td>\n",
       "      <td>St. Julian 2013 Reserve Late Harvest Riesling ...</td>\n",
       "      <td>Riesling</td>\n",
       "      <td>St. Julian</td>\n",
       "      <td>87</td>\n",
       "      <td>13.0</td>\n",
       "      <td>0</td>\n",
       "    </tr>\n",
       "    <tr>\n",
       "      <th>4</th>\n",
       "      <td>US</td>\n",
       "      <td>Much like the regular bottling from 2012, this...</td>\n",
       "      <td>Vintner's Reserve Wild Child Block</td>\n",
       "      <td>87</td>\n",
       "      <td>65.0</td>\n",
       "      <td>Oregon</td>\n",
       "      <td>Willamette Valley</td>\n",
       "      <td>Willamette Valley</td>\n",
       "      <td>Paul Gregutt</td>\n",
       "      <td>@paulgwine</td>\n",
       "      <td>Sweet Cheeks 2012 Vintner's Reserve Wild Child...</td>\n",
       "      <td>Pinot Noir</td>\n",
       "      <td>Sweet Cheeks</td>\n",
       "      <td>87</td>\n",
       "      <td>65.0</td>\n",
       "      <td>0</td>\n",
       "    </tr>\n",
       "    <tr>\n",
       "      <th>10</th>\n",
       "      <td>US</td>\n",
       "      <td>Soft, supple plum envelopes an oaky structure ...</td>\n",
       "      <td>Mountain Cuvée</td>\n",
       "      <td>87</td>\n",
       "      <td>19.0</td>\n",
       "      <td>California</td>\n",
       "      <td>Napa Valley</td>\n",
       "      <td>Napa</td>\n",
       "      <td>Virginie Boone</td>\n",
       "      <td>@vboone</td>\n",
       "      <td>Kirkland Signature 2011 Mountain Cuvée Caberne...</td>\n",
       "      <td>Cabernet Sauvignon</td>\n",
       "      <td>Kirkland Signature</td>\n",
       "      <td>87</td>\n",
       "      <td>19.0</td>\n",
       "      <td>0</td>\n",
       "    </tr>\n",
       "    <tr>\n",
       "      <th>12</th>\n",
       "      <td>US</td>\n",
       "      <td>Slightly reduced, this wine offers a chalky, t...</td>\n",
       "      <td>NaN</td>\n",
       "      <td>87</td>\n",
       "      <td>34.0</td>\n",
       "      <td>California</td>\n",
       "      <td>Alexander Valley</td>\n",
       "      <td>Sonoma</td>\n",
       "      <td>Virginie Boone</td>\n",
       "      <td>@vboone</td>\n",
       "      <td>Louis M. Martini 2012 Cabernet Sauvignon (Alex...</td>\n",
       "      <td>Cabernet Sauvignon</td>\n",
       "      <td>Louis M. Martini</td>\n",
       "      <td>87</td>\n",
       "      <td>34.0</td>\n",
       "      <td>0</td>\n",
       "    </tr>\n",
       "  </tbody>\n",
       "</table>\n",
       "</div>"
      ],
      "text/plain": [
       "   country                                        description  \\\n",
       "2       US  Tart and snappy, the flavors of lime flesh and...   \n",
       "3       US  Pineapple rind, lemon pith and orange blossom ...   \n",
       "4       US  Much like the regular bottling from 2012, this...   \n",
       "10      US  Soft, supple plum envelopes an oaky structure ...   \n",
       "12      US  Slightly reduced, this wine offers a chalky, t...   \n",
       "\n",
       "                           designation  rating  price       state  \\\n",
       "2                                  NaN      87   14.0      Oregon   \n",
       "3                 Reserve Late Harvest      87   13.0    Michigan   \n",
       "4   Vintner's Reserve Wild Child Block      87   65.0      Oregon   \n",
       "10                      Mountain Cuvée      87   19.0  California   \n",
       "12                                 NaN      87   34.0  California   \n",
       "\n",
       "               region_1           region_2              taster twitter_handle  \\\n",
       "2     Willamette Valley  Willamette Valley        Paul Gregutt    @paulgwine    \n",
       "3   Lake Michigan Shore                NaN  Alexander Peartree            NaN   \n",
       "4     Willamette Valley  Willamette Valley        Paul Gregutt    @paulgwine    \n",
       "10          Napa Valley               Napa      Virginie Boone        @vboone   \n",
       "12     Alexander Valley             Sonoma      Virginie Boone        @vboone   \n",
       "\n",
       "                                                title             variety  \\\n",
       "2       Rainstorm 2013 Pinot Gris (Willamette Valley)          Pinot Gris   \n",
       "3   St. Julian 2013 Reserve Late Harvest Riesling ...            Riesling   \n",
       "4   Sweet Cheeks 2012 Vintner's Reserve Wild Child...          Pinot Noir   \n",
       "10  Kirkland Signature 2011 Mountain Cuvée Caberne...  Cabernet Sauvignon   \n",
       "12  Louis M. Martini 2012 Cabernet Sauvignon (Alex...  Cabernet Sauvignon   \n",
       "\n",
       "                winery points_string  priceImpute  imputeFlag  \n",
       "2            Rainstorm            87         14.0           0  \n",
       "3           St. Julian            87         13.0           0  \n",
       "4         Sweet Cheeks            87         65.0           0  \n",
       "10  Kirkland Signature            87         19.0           0  \n",
       "12    Louis M. Martini            87         34.0           0  "
      ]
     },
     "execution_count": 44,
     "metadata": {},
     "output_type": "execute_result"
    }
   ],
   "source": [
    "wineUS.head()"
   ]
  },
  {
   "cell_type": "markdown",
   "metadata": {
    "azdata_cell_guid": "f748af05-446b-4244-aaa7-5228d0ecbd75"
   },
   "source": [
    "### Q13: How many records in `wineUS` have imputed values for `price`?"
   ]
  },
  {
   "cell_type": "code",
   "execution_count": 45,
   "metadata": {
    "azdata_cell_guid": "070199da-3087-45eb-b085-9da83f1bcf5e"
   },
   "outputs": [
    {
     "data": {
      "text/plain": [
       "239"
      ]
     },
     "execution_count": 45,
     "metadata": {},
     "output_type": "execute_result"
    }
   ],
   "source": [
    "wineUS['imputeFlag'].sum()"
   ]
  },
  {
   "cell_type": "markdown",
   "metadata": {
    "azdata_cell_guid": "fd4e70c1-1b3d-4357-a3ee-3c971bdaa92e"
   },
   "source": [
    "### Q14: What are the descriptive stats for `price` and the imputed price field? "
   ]
  },
  {
   "cell_type": "code",
   "execution_count": 46,
   "metadata": {
    "azdata_cell_guid": "15bdd334-1702-4017-9afe-2047d4269c86"
   },
   "outputs": [
    {
     "data": {
      "text/html": [
       "<div>\n",
       "<style scoped>\n",
       "    .dataframe tbody tr th:only-of-type {\n",
       "        vertical-align: middle;\n",
       "    }\n",
       "\n",
       "    .dataframe tbody tr th {\n",
       "        vertical-align: top;\n",
       "    }\n",
       "\n",
       "    .dataframe thead th {\n",
       "        text-align: right;\n",
       "    }\n",
       "</style>\n",
       "<table border=\"1\" class=\"dataframe\">\n",
       "  <thead>\n",
       "    <tr style=\"text-align: right;\">\n",
       "      <th></th>\n",
       "      <th>price</th>\n",
       "      <th>priceImpute</th>\n",
       "    </tr>\n",
       "  </thead>\n",
       "  <tbody>\n",
       "    <tr>\n",
       "      <th>count</th>\n",
       "      <td>54265.000000</td>\n",
       "      <td>54504.000000</td>\n",
       "    </tr>\n",
       "    <tr>\n",
       "      <th>mean</th>\n",
       "      <td>36.573464</td>\n",
       "      <td>36.568143</td>\n",
       "    </tr>\n",
       "    <tr>\n",
       "      <th>std</th>\n",
       "      <td>27.088857</td>\n",
       "      <td>27.029518</td>\n",
       "    </tr>\n",
       "    <tr>\n",
       "      <th>min</th>\n",
       "      <td>4.000000</td>\n",
       "      <td>4.000000</td>\n",
       "    </tr>\n",
       "    <tr>\n",
       "      <th>25%</th>\n",
       "      <td>20.000000</td>\n",
       "      <td>20.000000</td>\n",
       "    </tr>\n",
       "    <tr>\n",
       "      <th>50%</th>\n",
       "      <td>30.000000</td>\n",
       "      <td>30.000000</td>\n",
       "    </tr>\n",
       "    <tr>\n",
       "      <th>75%</th>\n",
       "      <td>45.000000</td>\n",
       "      <td>45.000000</td>\n",
       "    </tr>\n",
       "    <tr>\n",
       "      <th>max</th>\n",
       "      <td>2013.000000</td>\n",
       "      <td>2013.000000</td>\n",
       "    </tr>\n",
       "  </tbody>\n",
       "</table>\n",
       "</div>"
      ],
      "text/plain": [
       "              price   priceImpute\n",
       "count  54265.000000  54504.000000\n",
       "mean      36.573464     36.568143\n",
       "std       27.088857     27.029518\n",
       "min        4.000000      4.000000\n",
       "25%       20.000000     20.000000\n",
       "50%       30.000000     30.000000\n",
       "75%       45.000000     45.000000\n",
       "max     2013.000000   2013.000000"
      ]
     },
     "execution_count": 46,
     "metadata": {},
     "output_type": "execute_result"
    }
   ],
   "source": [
    "wineUS[['price','priceImpute']].describe()"
   ]
  },
  {
   "cell_type": "markdown",
   "metadata": {
    "azdata_cell_guid": "405b0b82-4754-464a-8000-4147e41babf2"
   },
   "source": [
    "### Q15: Create a new column that transforms all the state values into state abbreviations based on using the first two letters of the state\n",
    ">- Name the new column `st`\n",
    ">- Make sure to have the abbreviations stored as upper case for both letters\n",
    ">- Insert this column to the right of the state column"
   ]
  },
  {
   "cell_type": "code",
   "execution_count": 47,
   "metadata": {
    "azdata_cell_guid": "1a82504b-8ae3-4108-890a-a1e731098685"
   },
   "outputs": [],
   "source": [
    "wineUS.insert(6,'st',wineUS['state'].map(lambda x: x[:2].upper()))"
   ]
  },
  {
   "cell_type": "code",
   "execution_count": 48,
   "metadata": {
    "azdata_cell_guid": "52a60fd1-3d8b-4407-9d5b-71c81002e65a",
    "scrolled": true
   },
   "outputs": [
    {
     "data": {
      "text/html": [
       "<div>\n",
       "<style scoped>\n",
       "    .dataframe tbody tr th:only-of-type {\n",
       "        vertical-align: middle;\n",
       "    }\n",
       "\n",
       "    .dataframe tbody tr th {\n",
       "        vertical-align: top;\n",
       "    }\n",
       "\n",
       "    .dataframe thead th {\n",
       "        text-align: right;\n",
       "    }\n",
       "</style>\n",
       "<table border=\"1\" class=\"dataframe\">\n",
       "  <thead>\n",
       "    <tr style=\"text-align: right;\">\n",
       "      <th></th>\n",
       "      <th>country</th>\n",
       "      <th>description</th>\n",
       "      <th>designation</th>\n",
       "      <th>rating</th>\n",
       "      <th>price</th>\n",
       "      <th>state</th>\n",
       "      <th>st</th>\n",
       "      <th>region_1</th>\n",
       "      <th>region_2</th>\n",
       "      <th>taster</th>\n",
       "      <th>twitter_handle</th>\n",
       "      <th>title</th>\n",
       "      <th>variety</th>\n",
       "      <th>winery</th>\n",
       "      <th>points_string</th>\n",
       "      <th>priceImpute</th>\n",
       "      <th>imputeFlag</th>\n",
       "    </tr>\n",
       "  </thead>\n",
       "  <tbody>\n",
       "    <tr>\n",
       "      <th>2</th>\n",
       "      <td>US</td>\n",
       "      <td>Tart and snappy, the flavors of lime flesh and...</td>\n",
       "      <td>NaN</td>\n",
       "      <td>87</td>\n",
       "      <td>14.0</td>\n",
       "      <td>Oregon</td>\n",
       "      <td>OR</td>\n",
       "      <td>Willamette Valley</td>\n",
       "      <td>Willamette Valley</td>\n",
       "      <td>Paul Gregutt</td>\n",
       "      <td>@paulgwine</td>\n",
       "      <td>Rainstorm 2013 Pinot Gris (Willamette Valley)</td>\n",
       "      <td>Pinot Gris</td>\n",
       "      <td>Rainstorm</td>\n",
       "      <td>87</td>\n",
       "      <td>14.0</td>\n",
       "      <td>0</td>\n",
       "    </tr>\n",
       "    <tr>\n",
       "      <th>3</th>\n",
       "      <td>US</td>\n",
       "      <td>Pineapple rind, lemon pith and orange blossom ...</td>\n",
       "      <td>Reserve Late Harvest</td>\n",
       "      <td>87</td>\n",
       "      <td>13.0</td>\n",
       "      <td>Michigan</td>\n",
       "      <td>MI</td>\n",
       "      <td>Lake Michigan Shore</td>\n",
       "      <td>NaN</td>\n",
       "      <td>Alexander Peartree</td>\n",
       "      <td>NaN</td>\n",
       "      <td>St. Julian 2013 Reserve Late Harvest Riesling ...</td>\n",
       "      <td>Riesling</td>\n",
       "      <td>St. Julian</td>\n",
       "      <td>87</td>\n",
       "      <td>13.0</td>\n",
       "      <td>0</td>\n",
       "    </tr>\n",
       "    <tr>\n",
       "      <th>4</th>\n",
       "      <td>US</td>\n",
       "      <td>Much like the regular bottling from 2012, this...</td>\n",
       "      <td>Vintner's Reserve Wild Child Block</td>\n",
       "      <td>87</td>\n",
       "      <td>65.0</td>\n",
       "      <td>Oregon</td>\n",
       "      <td>OR</td>\n",
       "      <td>Willamette Valley</td>\n",
       "      <td>Willamette Valley</td>\n",
       "      <td>Paul Gregutt</td>\n",
       "      <td>@paulgwine</td>\n",
       "      <td>Sweet Cheeks 2012 Vintner's Reserve Wild Child...</td>\n",
       "      <td>Pinot Noir</td>\n",
       "      <td>Sweet Cheeks</td>\n",
       "      <td>87</td>\n",
       "      <td>65.0</td>\n",
       "      <td>0</td>\n",
       "    </tr>\n",
       "    <tr>\n",
       "      <th>10</th>\n",
       "      <td>US</td>\n",
       "      <td>Soft, supple plum envelopes an oaky structure ...</td>\n",
       "      <td>Mountain Cuvée</td>\n",
       "      <td>87</td>\n",
       "      <td>19.0</td>\n",
       "      <td>California</td>\n",
       "      <td>CA</td>\n",
       "      <td>Napa Valley</td>\n",
       "      <td>Napa</td>\n",
       "      <td>Virginie Boone</td>\n",
       "      <td>@vboone</td>\n",
       "      <td>Kirkland Signature 2011 Mountain Cuvée Caberne...</td>\n",
       "      <td>Cabernet Sauvignon</td>\n",
       "      <td>Kirkland Signature</td>\n",
       "      <td>87</td>\n",
       "      <td>19.0</td>\n",
       "      <td>0</td>\n",
       "    </tr>\n",
       "    <tr>\n",
       "      <th>12</th>\n",
       "      <td>US</td>\n",
       "      <td>Slightly reduced, this wine offers a chalky, t...</td>\n",
       "      <td>NaN</td>\n",
       "      <td>87</td>\n",
       "      <td>34.0</td>\n",
       "      <td>California</td>\n",
       "      <td>CA</td>\n",
       "      <td>Alexander Valley</td>\n",
       "      <td>Sonoma</td>\n",
       "      <td>Virginie Boone</td>\n",
       "      <td>@vboone</td>\n",
       "      <td>Louis M. Martini 2012 Cabernet Sauvignon (Alex...</td>\n",
       "      <td>Cabernet Sauvignon</td>\n",
       "      <td>Louis M. Martini</td>\n",
       "      <td>87</td>\n",
       "      <td>34.0</td>\n",
       "      <td>0</td>\n",
       "    </tr>\n",
       "  </tbody>\n",
       "</table>\n",
       "</div>"
      ],
      "text/plain": [
       "   country                                        description  \\\n",
       "2       US  Tart and snappy, the flavors of lime flesh and...   \n",
       "3       US  Pineapple rind, lemon pith and orange blossom ...   \n",
       "4       US  Much like the regular bottling from 2012, this...   \n",
       "10      US  Soft, supple plum envelopes an oaky structure ...   \n",
       "12      US  Slightly reduced, this wine offers a chalky, t...   \n",
       "\n",
       "                           designation  rating  price       state  st  \\\n",
       "2                                  NaN      87   14.0      Oregon  OR   \n",
       "3                 Reserve Late Harvest      87   13.0    Michigan  MI   \n",
       "4   Vintner's Reserve Wild Child Block      87   65.0      Oregon  OR   \n",
       "10                      Mountain Cuvée      87   19.0  California  CA   \n",
       "12                                 NaN      87   34.0  California  CA   \n",
       "\n",
       "               region_1           region_2              taster twitter_handle  \\\n",
       "2     Willamette Valley  Willamette Valley        Paul Gregutt    @paulgwine    \n",
       "3   Lake Michigan Shore                NaN  Alexander Peartree            NaN   \n",
       "4     Willamette Valley  Willamette Valley        Paul Gregutt    @paulgwine    \n",
       "10          Napa Valley               Napa      Virginie Boone        @vboone   \n",
       "12     Alexander Valley             Sonoma      Virginie Boone        @vboone   \n",
       "\n",
       "                                                title             variety  \\\n",
       "2       Rainstorm 2013 Pinot Gris (Willamette Valley)          Pinot Gris   \n",
       "3   St. Julian 2013 Reserve Late Harvest Riesling ...            Riesling   \n",
       "4   Sweet Cheeks 2012 Vintner's Reserve Wild Child...          Pinot Noir   \n",
       "10  Kirkland Signature 2011 Mountain Cuvée Caberne...  Cabernet Sauvignon   \n",
       "12  Louis M. Martini 2012 Cabernet Sauvignon (Alex...  Cabernet Sauvignon   \n",
       "\n",
       "                winery points_string  priceImpute  imputeFlag  \n",
       "2            Rainstorm            87         14.0           0  \n",
       "3           St. Julian            87         13.0           0  \n",
       "4         Sweet Cheeks            87         65.0           0  \n",
       "10  Kirkland Signature            87         19.0           0  \n",
       "12    Louis M. Martini            87         34.0           0  "
      ]
     },
     "execution_count": 48,
     "metadata": {},
     "output_type": "execute_result"
    }
   ],
   "source": [
    "wineUS.head()"
   ]
  },
  {
   "cell_type": "markdown",
   "metadata": {
    "azdata_cell_guid": "f572dfd1-efdb-4558-898f-d19b8d05149f"
   },
   "source": [
    "### Q16: What are the average ratings and prices for each state?"
   ]
  },
  {
   "cell_type": "code",
   "execution_count": 49,
   "metadata": {
    "azdata_cell_guid": "9746aafe-b990-4822-8e84-70e4b2cd9464"
   },
   "outputs": [
    {
     "name": "stderr",
     "output_type": "stream",
     "text": [
      "C:\\Users\\vrohi\\AppData\\Local\\Temp\\ipykernel_9776\\2076041331.py:1: FutureWarning: ['country', 'description', 'designation', 'st', 'region_1', 'region_2', 'taster', 'twitter_handle', 'title', 'variety', 'winery'] did not aggregate successfully. If any error is raised this will raise in a future version of pandas. Drop these columns/ops to avoid this warning.\n",
      "  avgUS = round(wineUS.groupby('state').agg(['count','sum','mean']),2)\n"
     ]
    },
    {
     "data": {
      "text/html": [
       "<div>\n",
       "<style scoped>\n",
       "    .dataframe tbody tr th:only-of-type {\n",
       "        vertical-align: middle;\n",
       "    }\n",
       "\n",
       "    .dataframe tbody tr th {\n",
       "        vertical-align: top;\n",
       "    }\n",
       "\n",
       "    .dataframe thead tr th {\n",
       "        text-align: left;\n",
       "    }\n",
       "\n",
       "    .dataframe thead tr:last-of-type th {\n",
       "        text-align: right;\n",
       "    }\n",
       "</style>\n",
       "<table border=\"1\" class=\"dataframe\">\n",
       "  <thead>\n",
       "    <tr>\n",
       "      <th></th>\n",
       "      <th colspan=\"3\" halign=\"left\">rating</th>\n",
       "      <th colspan=\"3\" halign=\"left\">price</th>\n",
       "      <th colspan=\"3\" halign=\"left\">points_string</th>\n",
       "      <th colspan=\"3\" halign=\"left\">priceImpute</th>\n",
       "      <th colspan=\"3\" halign=\"left\">imputeFlag</th>\n",
       "    </tr>\n",
       "    <tr>\n",
       "      <th></th>\n",
       "      <th>count</th>\n",
       "      <th>sum</th>\n",
       "      <th>mean</th>\n",
       "      <th>count</th>\n",
       "      <th>sum</th>\n",
       "      <th>mean</th>\n",
       "      <th>count</th>\n",
       "      <th>sum</th>\n",
       "      <th>mean</th>\n",
       "      <th>count</th>\n",
       "      <th>sum</th>\n",
       "      <th>mean</th>\n",
       "      <th>count</th>\n",
       "      <th>sum</th>\n",
       "      <th>mean</th>\n",
       "    </tr>\n",
       "    <tr>\n",
       "      <th>state</th>\n",
       "      <th></th>\n",
       "      <th></th>\n",
       "      <th></th>\n",
       "      <th></th>\n",
       "      <th></th>\n",
       "      <th></th>\n",
       "      <th></th>\n",
       "      <th></th>\n",
       "      <th></th>\n",
       "      <th></th>\n",
       "      <th></th>\n",
       "      <th></th>\n",
       "      <th></th>\n",
       "      <th></th>\n",
       "      <th></th>\n",
       "    </tr>\n",
       "  </thead>\n",
       "  <tbody>\n",
       "    <tr>\n",
       "      <th>America</th>\n",
       "      <td>95</td>\n",
       "      <td>8218</td>\n",
       "      <td>86.51</td>\n",
       "      <td>95</td>\n",
       "      <td>1890.0</td>\n",
       "      <td>19.89</td>\n",
       "      <td>95</td>\n",
       "      <td>8587879090838685868690878485868885888790848988...</td>\n",
       "      <td>9.039873e+187</td>\n",
       "      <td>95</td>\n",
       "      <td>1890.00</td>\n",
       "      <td>19.89</td>\n",
       "      <td>95</td>\n",
       "      <td>0</td>\n",
       "      <td>0.00</td>\n",
       "    </tr>\n",
       "    <tr>\n",
       "      <th>Arizona</th>\n",
       "      <td>41</td>\n",
       "      <td>3482</td>\n",
       "      <td>84.93</td>\n",
       "      <td>40</td>\n",
       "      <td>1168.0</td>\n",
       "      <td>29.20</td>\n",
       "      <td>41</td>\n",
       "      <td>8585848284878785838487848585848786868682858786...</td>\n",
       "      <td>2.094109e+80</td>\n",
       "      <td>41</td>\n",
       "      <td>1203.36</td>\n",
       "      <td>29.35</td>\n",
       "      <td>41</td>\n",
       "      <td>1</td>\n",
       "      <td>0.02</td>\n",
       "    </tr>\n",
       "    <tr>\n",
       "      <th>California</th>\n",
       "      <td>36247</td>\n",
       "      <td>3212491</td>\n",
       "      <td>88.63</td>\n",
       "      <td>36104</td>\n",
       "      <td>1409538.0</td>\n",
       "      <td>39.04</td>\n",
       "      <td>36247</td>\n",
       "      <td>8787878787868686868685858686868686868686868888...</td>\n",
       "      <td>inf</td>\n",
       "      <td>36247</td>\n",
       "      <td>1414594.48</td>\n",
       "      <td>39.03</td>\n",
       "      <td>36247</td>\n",
       "      <td>143</td>\n",
       "      <td>0.00</td>\n",
       "    </tr>\n",
       "    <tr>\n",
       "      <th>Colorado</th>\n",
       "      <td>68</td>\n",
       "      <td>5856</td>\n",
       "      <td>86.12</td>\n",
       "      <td>68</td>\n",
       "      <td>2243.0</td>\n",
       "      <td>32.99</td>\n",
       "      <td>68</td>\n",
       "      <td>8787858585839086888486858687898688888786908991...</td>\n",
       "      <td>1.292332e+134</td>\n",
       "      <td>68</td>\n",
       "      <td>2243.00</td>\n",
       "      <td>32.99</td>\n",
       "      <td>68</td>\n",
       "      <td>0</td>\n",
       "      <td>0.00</td>\n",
       "    </tr>\n",
       "    <tr>\n",
       "      <th>Connecticut</th>\n",
       "      <td>3</td>\n",
       "      <td>252</td>\n",
       "      <td>84.00</td>\n",
       "      <td>3</td>\n",
       "      <td>46.0</td>\n",
       "      <td>15.33</td>\n",
       "      <td>3</td>\n",
       "      <td>848484</td>\n",
       "      <td>2.828280e+05</td>\n",
       "      <td>3</td>\n",
       "      <td>46.00</td>\n",
       "      <td>15.33</td>\n",
       "      <td>3</td>\n",
       "      <td>0</td>\n",
       "      <td>0.00</td>\n",
       "    </tr>\n",
       "    <tr>\n",
       "      <th>Hawaii</th>\n",
       "      <td>1</td>\n",
       "      <td>87</td>\n",
       "      <td>87.00</td>\n",
       "      <td>1</td>\n",
       "      <td>28.0</td>\n",
       "      <td>28.00</td>\n",
       "      <td>1</td>\n",
       "      <td>87</td>\n",
       "      <td>8.700000e+01</td>\n",
       "      <td>1</td>\n",
       "      <td>28.00</td>\n",
       "      <td>28.00</td>\n",
       "      <td>1</td>\n",
       "      <td>0</td>\n",
       "      <td>0.00</td>\n",
       "    </tr>\n",
       "    <tr>\n",
       "      <th>Idaho</th>\n",
       "      <td>192</td>\n",
       "      <td>16627</td>\n",
       "      <td>86.60</td>\n",
       "      <td>190</td>\n",
       "      <td>3946.0</td>\n",
       "      <td>20.77</td>\n",
       "      <td>192</td>\n",
       "      <td>8787879188909088888883868387848387878685858586...</td>\n",
       "      <td>inf</td>\n",
       "      <td>192</td>\n",
       "      <td>4016.72</td>\n",
       "      <td>20.92</td>\n",
       "      <td>192</td>\n",
       "      <td>2</td>\n",
       "      <td>0.01</td>\n",
       "    </tr>\n",
       "    <tr>\n",
       "      <th>Illinois</th>\n",
       "      <td>6</td>\n",
       "      <td>507</td>\n",
       "      <td>84.50</td>\n",
       "      <td>6</td>\n",
       "      <td>194.0</td>\n",
       "      <td>32.33</td>\n",
       "      <td>6</td>\n",
       "      <td>858385848486</td>\n",
       "      <td>1.430643e+11</td>\n",
       "      <td>6</td>\n",
       "      <td>194.00</td>\n",
       "      <td>32.33</td>\n",
       "      <td>6</td>\n",
       "      <td>0</td>\n",
       "      <td>0.00</td>\n",
       "    </tr>\n",
       "    <tr>\n",
       "      <th>Iowa</th>\n",
       "      <td>4</td>\n",
       "      <td>332</td>\n",
       "      <td>83.00</td>\n",
       "      <td>4</td>\n",
       "      <td>62.0</td>\n",
       "      <td>15.50</td>\n",
       "      <td>4</td>\n",
       "      <td>84848381</td>\n",
       "      <td>2.121210e+07</td>\n",
       "      <td>4</td>\n",
       "      <td>62.00</td>\n",
       "      <td>15.50</td>\n",
       "      <td>4</td>\n",
       "      <td>0</td>\n",
       "      <td>0.00</td>\n",
       "    </tr>\n",
       "    <tr>\n",
       "      <th>Kentucky</th>\n",
       "      <td>1</td>\n",
       "      <td>83</td>\n",
       "      <td>83.00</td>\n",
       "      <td>1</td>\n",
       "      <td>35.0</td>\n",
       "      <td>35.00</td>\n",
       "      <td>1</td>\n",
       "      <td>83</td>\n",
       "      <td>8.300000e+01</td>\n",
       "      <td>1</td>\n",
       "      <td>35.00</td>\n",
       "      <td>35.00</td>\n",
       "      <td>1</td>\n",
       "      <td>0</td>\n",
       "      <td>0.00</td>\n",
       "    </tr>\n",
       "    <tr>\n",
       "      <th>Massachusetts</th>\n",
       "      <td>7</td>\n",
       "      <td>594</td>\n",
       "      <td>84.86</td>\n",
       "      <td>7</td>\n",
       "      <td>149.0</td>\n",
       "      <td>21.29</td>\n",
       "      <td>7</td>\n",
       "      <td>83858389858584</td>\n",
       "      <td>1.197977e+13</td>\n",
       "      <td>7</td>\n",
       "      <td>149.00</td>\n",
       "      <td>21.29</td>\n",
       "      <td>7</td>\n",
       "      <td>0</td>\n",
       "      <td>0.00</td>\n",
       "    </tr>\n",
       "    <tr>\n",
       "      <th>Michigan</th>\n",
       "      <td>114</td>\n",
       "      <td>9816</td>\n",
       "      <td>86.11</td>\n",
       "      <td>111</td>\n",
       "      <td>3600.0</td>\n",
       "      <td>32.43</td>\n",
       "      <td>114</td>\n",
       "      <td>8785888884848484838385878585858586868983868685...</td>\n",
       "      <td>7.706920e+225</td>\n",
       "      <td>114</td>\n",
       "      <td>3706.08</td>\n",
       "      <td>32.51</td>\n",
       "      <td>114</td>\n",
       "      <td>3</td>\n",
       "      <td>0.03</td>\n",
       "    </tr>\n",
       "    <tr>\n",
       "      <th>Missouri</th>\n",
       "      <td>33</td>\n",
       "      <td>2750</td>\n",
       "      <td>83.33</td>\n",
       "      <td>33</td>\n",
       "      <td>572.0</td>\n",
       "      <td>17.33</td>\n",
       "      <td>33</td>\n",
       "      <td>8483838286838584838585858484868385828285858182...</td>\n",
       "      <td>2.570860e+64</td>\n",
       "      <td>33</td>\n",
       "      <td>572.00</td>\n",
       "      <td>17.33</td>\n",
       "      <td>33</td>\n",
       "      <td>0</td>\n",
       "      <td>0.00</td>\n",
       "    </tr>\n",
       "    <tr>\n",
       "      <th>Nevada</th>\n",
       "      <td>4</td>\n",
       "      <td>337</td>\n",
       "      <td>84.25</td>\n",
       "      <td>4</td>\n",
       "      <td>151.0</td>\n",
       "      <td>37.75</td>\n",
       "      <td>4</td>\n",
       "      <td>84858583</td>\n",
       "      <td>2.121465e+07</td>\n",
       "      <td>4</td>\n",
       "      <td>151.00</td>\n",
       "      <td>37.75</td>\n",
       "      <td>4</td>\n",
       "      <td>0</td>\n",
       "      <td>0.00</td>\n",
       "    </tr>\n",
       "    <tr>\n",
       "      <th>New Jersey</th>\n",
       "      <td>8</td>\n",
       "      <td>672</td>\n",
       "      <td>84.00</td>\n",
       "      <td>8</td>\n",
       "      <td>204.0</td>\n",
       "      <td>25.50</td>\n",
       "      <td>8</td>\n",
       "      <td>8383828784838387</td>\n",
       "      <td>1.047979e+15</td>\n",
       "      <td>8</td>\n",
       "      <td>204.00</td>\n",
       "      <td>25.50</td>\n",
       "      <td>8</td>\n",
       "      <td>0</td>\n",
       "      <td>0.00</td>\n",
       "    </tr>\n",
       "    <tr>\n",
       "      <th>New Mexico</th>\n",
       "      <td>45</td>\n",
       "      <td>3778</td>\n",
       "      <td>83.96</td>\n",
       "      <td>45</td>\n",
       "      <td>1009.0</td>\n",
       "      <td>22.42</td>\n",
       "      <td>45</td>\n",
       "      <td>8483838383838486828685868183858488848483848686...</td>\n",
       "      <td>1.885297e+88</td>\n",
       "      <td>45</td>\n",
       "      <td>1009.00</td>\n",
       "      <td>22.42</td>\n",
       "      <td>45</td>\n",
       "      <td>0</td>\n",
       "      <td>0.00</td>\n",
       "    </tr>\n",
       "    <tr>\n",
       "      <th>New York</th>\n",
       "      <td>2688</td>\n",
       "      <td>234336</td>\n",
       "      <td>87.18</td>\n",
       "      <td>2676</td>\n",
       "      <td>61083.0</td>\n",
       "      <td>22.83</td>\n",
       "      <td>2688</td>\n",
       "      <td>8888878785858585868585858989898789879090878686...</td>\n",
       "      <td>inf</td>\n",
       "      <td>2688</td>\n",
       "      <td>61507.32</td>\n",
       "      <td>22.88</td>\n",
       "      <td>2688</td>\n",
       "      <td>12</td>\n",
       "      <td>0.00</td>\n",
       "    </tr>\n",
       "    <tr>\n",
       "      <th>North Carolina</th>\n",
       "      <td>23</td>\n",
       "      <td>1945</td>\n",
       "      <td>84.57</td>\n",
       "      <td>23</td>\n",
       "      <td>483.0</td>\n",
       "      <td>21.00</td>\n",
       "      <td>23</td>\n",
       "      <td>8690868682818186888485868284848585838385868384</td>\n",
       "      <td>3.778639e+44</td>\n",
       "      <td>23</td>\n",
       "      <td>483.00</td>\n",
       "      <td>21.00</td>\n",
       "      <td>23</td>\n",
       "      <td>0</td>\n",
       "      <td>0.00</td>\n",
       "    </tr>\n",
       "    <tr>\n",
       "      <th>Ohio</th>\n",
       "      <td>12</td>\n",
       "      <td>1009</td>\n",
       "      <td>84.08</td>\n",
       "      <td>12</td>\n",
       "      <td>165.0</td>\n",
       "      <td>13.75</td>\n",
       "      <td>12</td>\n",
       "      <td>838680848487848384848486</td>\n",
       "      <td>6.989007e+22</td>\n",
       "      <td>12</td>\n",
       "      <td>165.00</td>\n",
       "      <td>13.75</td>\n",
       "      <td>12</td>\n",
       "      <td>0</td>\n",
       "      <td>0.00</td>\n",
       "    </tr>\n",
       "    <tr>\n",
       "      <th>Oregon</th>\n",
       "      <td>5373</td>\n",
       "      <td>478476</td>\n",
       "      <td>89.05</td>\n",
       "      <td>5359</td>\n",
       "      <td>195845.0</td>\n",
       "      <td>36.55</td>\n",
       "      <td>5373</td>\n",
       "      <td>8787878686869185858589899295929292919191919191...</td>\n",
       "      <td>inf</td>\n",
       "      <td>5373</td>\n",
       "      <td>196340.04</td>\n",
       "      <td>36.54</td>\n",
       "      <td>5373</td>\n",
       "      <td>14</td>\n",
       "      <td>0.00</td>\n",
       "    </tr>\n",
       "    <tr>\n",
       "      <th>Pennsylvania</th>\n",
       "      <td>18</td>\n",
       "      <td>1522</td>\n",
       "      <td>84.56</td>\n",
       "      <td>18</td>\n",
       "      <td>420.0</td>\n",
       "      <td>23.33</td>\n",
       "      <td>18</td>\n",
       "      <td>868583858685868482918485858285858380</td>\n",
       "      <td>4.825466e+34</td>\n",
       "      <td>18</td>\n",
       "      <td>420.00</td>\n",
       "      <td>23.33</td>\n",
       "      <td>18</td>\n",
       "      <td>0</td>\n",
       "      <td>0.00</td>\n",
       "    </tr>\n",
       "    <tr>\n",
       "      <th>Rhode Island</th>\n",
       "      <td>1</td>\n",
       "      <td>90</td>\n",
       "      <td>90.00</td>\n",
       "      <td>1</td>\n",
       "      <td>25.0</td>\n",
       "      <td>25.00</td>\n",
       "      <td>1</td>\n",
       "      <td>90</td>\n",
       "      <td>9.000000e+01</td>\n",
       "      <td>1</td>\n",
       "      <td>25.00</td>\n",
       "      <td>25.00</td>\n",
       "      <td>1</td>\n",
       "      <td>0</td>\n",
       "      <td>0.00</td>\n",
       "    </tr>\n",
       "    <tr>\n",
       "      <th>Texas</th>\n",
       "      <td>94</td>\n",
       "      <td>8010</td>\n",
       "      <td>85.21</td>\n",
       "      <td>93</td>\n",
       "      <td>2381.0</td>\n",
       "      <td>25.60</td>\n",
       "      <td>94</td>\n",
       "      <td>8585878787878487878585858888868685858587838387...</td>\n",
       "      <td>9.133914e+185</td>\n",
       "      <td>94</td>\n",
       "      <td>2416.36</td>\n",
       "      <td>25.71</td>\n",
       "      <td>94</td>\n",
       "      <td>1</td>\n",
       "      <td>0.01</td>\n",
       "    </tr>\n",
       "    <tr>\n",
       "      <th>Vermont</th>\n",
       "      <td>3</td>\n",
       "      <td>253</td>\n",
       "      <td>84.33</td>\n",
       "      <td>3</td>\n",
       "      <td>95.0</td>\n",
       "      <td>31.67</td>\n",
       "      <td>3</td>\n",
       "      <td>858484</td>\n",
       "      <td>2.861613e+05</td>\n",
       "      <td>3</td>\n",
       "      <td>95.00</td>\n",
       "      <td>31.67</td>\n",
       "      <td>3</td>\n",
       "      <td>0</td>\n",
       "      <td>0.00</td>\n",
       "    </tr>\n",
       "    <tr>\n",
       "      <th>Virginia</th>\n",
       "      <td>777</td>\n",
       "      <td>66520</td>\n",
       "      <td>85.61</td>\n",
       "      <td>770</td>\n",
       "      <td>20800.0</td>\n",
       "      <td>27.01</td>\n",
       "      <td>777</td>\n",
       "      <td>8787868685858588888488878584858986868686889187...</td>\n",
       "      <td>inf</td>\n",
       "      <td>777</td>\n",
       "      <td>21047.52</td>\n",
       "      <td>27.09</td>\n",
       "      <td>777</td>\n",
       "      <td>7</td>\n",
       "      <td>0.01</td>\n",
       "    </tr>\n",
       "    <tr>\n",
       "      <th>Washington</th>\n",
       "      <td>8639</td>\n",
       "      <td>768415</td>\n",
       "      <td>88.95</td>\n",
       "      <td>8583</td>\n",
       "      <td>278402.0</td>\n",
       "      <td>32.44</td>\n",
       "      <td>8639</td>\n",
       "      <td>8686868686888789898989898787878787919193898989...</td>\n",
       "      <td>inf</td>\n",
       "      <td>8639</td>\n",
       "      <td>280382.16</td>\n",
       "      <td>32.46</td>\n",
       "      <td>8639</td>\n",
       "      <td>56</td>\n",
       "      <td>0.01</td>\n",
       "    </tr>\n",
       "    <tr>\n",
       "      <th>Washington-Oregon</th>\n",
       "      <td>7</td>\n",
       "      <td>619</td>\n",
       "      <td>88.43</td>\n",
       "      <td>7</td>\n",
       "      <td>125.0</td>\n",
       "      <td>17.86</td>\n",
       "      <td>7</td>\n",
       "      <td>88888988889088</td>\n",
       "      <td>1.269843e+13</td>\n",
       "      <td>7</td>\n",
       "      <td>125.00</td>\n",
       "      <td>17.86</td>\n",
       "      <td>7</td>\n",
       "      <td>0</td>\n",
       "      <td>0.00</td>\n",
       "    </tr>\n",
       "  </tbody>\n",
       "</table>\n",
       "</div>"
      ],
      "text/plain": [
       "                  rating                  price                    \\\n",
       "                   count      sum   mean  count        sum   mean   \n",
       "state                                                               \n",
       "America               95     8218  86.51     95     1890.0  19.89   \n",
       "Arizona               41     3482  84.93     40     1168.0  29.20   \n",
       "California         36247  3212491  88.63  36104  1409538.0  39.04   \n",
       "Colorado              68     5856  86.12     68     2243.0  32.99   \n",
       "Connecticut            3      252  84.00      3       46.0  15.33   \n",
       "Hawaii                 1       87  87.00      1       28.0  28.00   \n",
       "Idaho                192    16627  86.60    190     3946.0  20.77   \n",
       "Illinois               6      507  84.50      6      194.0  32.33   \n",
       "Iowa                   4      332  83.00      4       62.0  15.50   \n",
       "Kentucky               1       83  83.00      1       35.0  35.00   \n",
       "Massachusetts          7      594  84.86      7      149.0  21.29   \n",
       "Michigan             114     9816  86.11    111     3600.0  32.43   \n",
       "Missouri              33     2750  83.33     33      572.0  17.33   \n",
       "Nevada                 4      337  84.25      4      151.0  37.75   \n",
       "New Jersey             8      672  84.00      8      204.0  25.50   \n",
       "New Mexico            45     3778  83.96     45     1009.0  22.42   \n",
       "New York            2688   234336  87.18   2676    61083.0  22.83   \n",
       "North Carolina        23     1945  84.57     23      483.0  21.00   \n",
       "Ohio                  12     1009  84.08     12      165.0  13.75   \n",
       "Oregon              5373   478476  89.05   5359   195845.0  36.55   \n",
       "Pennsylvania          18     1522  84.56     18      420.0  23.33   \n",
       "Rhode Island           1       90  90.00      1       25.0  25.00   \n",
       "Texas                 94     8010  85.21     93     2381.0  25.60   \n",
       "Vermont                3      253  84.33      3       95.0  31.67   \n",
       "Virginia             777    66520  85.61    770    20800.0  27.01   \n",
       "Washington          8639   768415  88.95   8583   278402.0  32.44   \n",
       "Washington-Oregon      7      619  88.43      7      125.0  17.86   \n",
       "\n",
       "                  points_string  \\\n",
       "                          count   \n",
       "state                             \n",
       "America                      95   \n",
       "Arizona                      41   \n",
       "California                36247   \n",
       "Colorado                     68   \n",
       "Connecticut                   3   \n",
       "Hawaii                        1   \n",
       "Idaho                       192   \n",
       "Illinois                      6   \n",
       "Iowa                          4   \n",
       "Kentucky                      1   \n",
       "Massachusetts                 7   \n",
       "Michigan                    114   \n",
       "Missouri                     33   \n",
       "Nevada                        4   \n",
       "New Jersey                    8   \n",
       "New Mexico                   45   \n",
       "New York                   2688   \n",
       "North Carolina               23   \n",
       "Ohio                         12   \n",
       "Oregon                     5373   \n",
       "Pennsylvania                 18   \n",
       "Rhode Island                  1   \n",
       "Texas                        94   \n",
       "Vermont                       3   \n",
       "Virginia                    777   \n",
       "Washington                 8639   \n",
       "Washington-Oregon             7   \n",
       "\n",
       "                                                                      \\\n",
       "                                                                 sum   \n",
       "state                                                                  \n",
       "America            8587879090838685868690878485868885888790848988...   \n",
       "Arizona            8585848284878785838487848585848786868682858786...   \n",
       "California         8787878787868686868685858686868686868686868888...   \n",
       "Colorado           8787858585839086888486858687898688888786908991...   \n",
       "Connecticut                                                   848484   \n",
       "Hawaii                                                            87   \n",
       "Idaho              8787879188909088888883868387848387878685858586...   \n",
       "Illinois                                                858385848486   \n",
       "Iowa                                                        84848381   \n",
       "Kentucky                                                          83   \n",
       "Massachusetts                                         83858389858584   \n",
       "Michigan           8785888884848484838385878585858586868983868685...   \n",
       "Missouri           8483838286838584838585858484868385828285858182...   \n",
       "Nevada                                                      84858583   \n",
       "New Jersey                                          8383828784838387   \n",
       "New Mexico         8483838383838486828685868183858488848483848686...   \n",
       "New York           8888878785858585868585858989898789879090878686...   \n",
       "North Carolina        8690868682818186888485868284848585838385868384   \n",
       "Ohio                                        838680848487848384848486   \n",
       "Oregon             8787878686869185858589899295929292919191919191...   \n",
       "Pennsylvania                    868583858685868482918485858285858380   \n",
       "Rhode Island                                                      90   \n",
       "Texas              8585878787878487878585858888868685858587838387...   \n",
       "Vermont                                                       858484   \n",
       "Virginia           8787868685858588888488878584858986868686889187...   \n",
       "Washington         8686868686888789898989898787878787919193898989...   \n",
       "Washington-Oregon                                     88888988889088   \n",
       "\n",
       "                                 priceImpute                    imputeFlag  \\\n",
       "                            mean       count         sum   mean      count   \n",
       "state                                                                        \n",
       "America            9.039873e+187          95     1890.00  19.89         95   \n",
       "Arizona             2.094109e+80          41     1203.36  29.35         41   \n",
       "California                   inf       36247  1414594.48  39.03      36247   \n",
       "Colorado           1.292332e+134          68     2243.00  32.99         68   \n",
       "Connecticut         2.828280e+05           3       46.00  15.33          3   \n",
       "Hawaii              8.700000e+01           1       28.00  28.00          1   \n",
       "Idaho                        inf         192     4016.72  20.92        192   \n",
       "Illinois            1.430643e+11           6      194.00  32.33          6   \n",
       "Iowa                2.121210e+07           4       62.00  15.50          4   \n",
       "Kentucky            8.300000e+01           1       35.00  35.00          1   \n",
       "Massachusetts       1.197977e+13           7      149.00  21.29          7   \n",
       "Michigan           7.706920e+225         114     3706.08  32.51        114   \n",
       "Missouri            2.570860e+64          33      572.00  17.33         33   \n",
       "Nevada              2.121465e+07           4      151.00  37.75          4   \n",
       "New Jersey          1.047979e+15           8      204.00  25.50          8   \n",
       "New Mexico          1.885297e+88          45     1009.00  22.42         45   \n",
       "New York                     inf        2688    61507.32  22.88       2688   \n",
       "North Carolina      3.778639e+44          23      483.00  21.00         23   \n",
       "Ohio                6.989007e+22          12      165.00  13.75         12   \n",
       "Oregon                       inf        5373   196340.04  36.54       5373   \n",
       "Pennsylvania        4.825466e+34          18      420.00  23.33         18   \n",
       "Rhode Island        9.000000e+01           1       25.00  25.00          1   \n",
       "Texas              9.133914e+185          94     2416.36  25.71         94   \n",
       "Vermont             2.861613e+05           3       95.00  31.67          3   \n",
       "Virginia                     inf         777    21047.52  27.09        777   \n",
       "Washington                   inf        8639   280382.16  32.46       8639   \n",
       "Washington-Oregon   1.269843e+13           7      125.00  17.86          7   \n",
       "\n",
       "                              \n",
       "                   sum  mean  \n",
       "state                         \n",
       "America              0  0.00  \n",
       "Arizona              1  0.02  \n",
       "California         143  0.00  \n",
       "Colorado             0  0.00  \n",
       "Connecticut          0  0.00  \n",
       "Hawaii               0  0.00  \n",
       "Idaho                2  0.01  \n",
       "Illinois             0  0.00  \n",
       "Iowa                 0  0.00  \n",
       "Kentucky             0  0.00  \n",
       "Massachusetts        0  0.00  \n",
       "Michigan             3  0.03  \n",
       "Missouri             0  0.00  \n",
       "Nevada               0  0.00  \n",
       "New Jersey           0  0.00  \n",
       "New Mexico           0  0.00  \n",
       "New York            12  0.00  \n",
       "North Carolina       0  0.00  \n",
       "Ohio                 0  0.00  \n",
       "Oregon              14  0.00  \n",
       "Pennsylvania         0  0.00  \n",
       "Rhode Island         0  0.00  \n",
       "Texas                1  0.01  \n",
       "Vermont              0  0.00  \n",
       "Virginia             7  0.01  \n",
       "Washington          56  0.01  \n",
       "Washington-Oregon    0  0.00  "
      ]
     },
     "execution_count": 49,
     "metadata": {},
     "output_type": "execute_result"
    }
   ],
   "source": [
    "avgUS = round(wineUS.groupby('state').agg(['count','sum','mean']),2)\n",
    "\n",
    "avgUS"
   ]
  },
  {
   "cell_type": "markdown",
   "metadata": {
    "azdata_cell_guid": "a6b29097-b01f-4eb9-85c1-b6e4de9016a5"
   },
   "source": [
    "### Q17: What is the correlation between ratings and price?"
   ]
  },
  {
   "cell_type": "code",
   "execution_count": 50,
   "metadata": {
    "azdata_cell_guid": "7ff99247-9b70-412b-b7c1-96765fd29172"
   },
   "outputs": [
    {
     "data": {
      "text/html": [
       "<div>\n",
       "<style scoped>\n",
       "    .dataframe tbody tr th:only-of-type {\n",
       "        vertical-align: middle;\n",
       "    }\n",
       "\n",
       "    .dataframe tbody tr th {\n",
       "        vertical-align: top;\n",
       "    }\n",
       "\n",
       "    .dataframe thead th {\n",
       "        text-align: right;\n",
       "    }\n",
       "</style>\n",
       "<table border=\"1\" class=\"dataframe\">\n",
       "  <thead>\n",
       "    <tr style=\"text-align: right;\">\n",
       "      <th></th>\n",
       "      <th>rating</th>\n",
       "      <th>price</th>\n",
       "      <th>priceImpute</th>\n",
       "    </tr>\n",
       "  </thead>\n",
       "  <tbody>\n",
       "    <tr>\n",
       "      <th>rating</th>\n",
       "      <td>1.000000</td>\n",
       "      <td>0.453079</td>\n",
       "      <td>0.452409</td>\n",
       "    </tr>\n",
       "    <tr>\n",
       "      <th>price</th>\n",
       "      <td>0.453079</td>\n",
       "      <td>1.000000</td>\n",
       "      <td>1.000000</td>\n",
       "    </tr>\n",
       "    <tr>\n",
       "      <th>priceImpute</th>\n",
       "      <td>0.452409</td>\n",
       "      <td>1.000000</td>\n",
       "      <td>1.000000</td>\n",
       "    </tr>\n",
       "  </tbody>\n",
       "</table>\n",
       "</div>"
      ],
      "text/plain": [
       "               rating     price  priceImpute\n",
       "rating       1.000000  0.453079     0.452409\n",
       "price        0.453079  1.000000     1.000000\n",
       "priceImpute  0.452409  1.000000     1.000000"
      ]
     },
     "execution_count": 50,
     "metadata": {},
     "output_type": "execute_result"
    }
   ],
   "source": [
    "wineUS[['rating','price','priceImpute']].corr()"
   ]
  },
  {
   "cell_type": "code",
   "execution_count": 51,
   "metadata": {
    "azdata_cell_guid": "5cb31dae-52c5-4648-a442-c205c688a4f5"
   },
   "outputs": [
    {
     "data": {
      "text/html": [
       "<div>\n",
       "<style scoped>\n",
       "    .dataframe tbody tr th:only-of-type {\n",
       "        vertical-align: middle;\n",
       "    }\n",
       "\n",
       "    .dataframe tbody tr th {\n",
       "        vertical-align: top;\n",
       "    }\n",
       "\n",
       "    .dataframe thead tr th {\n",
       "        text-align: left;\n",
       "    }\n",
       "</style>\n",
       "<table border=\"1\" class=\"dataframe\">\n",
       "  <thead>\n",
       "    <tr>\n",
       "      <th></th>\n",
       "      <th></th>\n",
       "      <th colspan=\"3\" halign=\"left\">rating</th>\n",
       "      <th colspan=\"3\" halign=\"left\">price</th>\n",
       "      <th colspan=\"2\" halign=\"left\">points_string</th>\n",
       "      <th colspan=\"3\" halign=\"left\">priceImpute</th>\n",
       "      <th colspan=\"3\" halign=\"left\">imputeFlag</th>\n",
       "    </tr>\n",
       "    <tr>\n",
       "      <th></th>\n",
       "      <th></th>\n",
       "      <th>count</th>\n",
       "      <th>sum</th>\n",
       "      <th>mean</th>\n",
       "      <th>count</th>\n",
       "      <th>sum</th>\n",
       "      <th>mean</th>\n",
       "      <th>count</th>\n",
       "      <th>mean</th>\n",
       "      <th>count</th>\n",
       "      <th>sum</th>\n",
       "      <th>mean</th>\n",
       "      <th>count</th>\n",
       "      <th>sum</th>\n",
       "      <th>mean</th>\n",
       "    </tr>\n",
       "  </thead>\n",
       "  <tbody>\n",
       "    <tr>\n",
       "      <th rowspan=\"3\" valign=\"top\">rating</th>\n",
       "      <th>count</th>\n",
       "      <td>1.000000</td>\n",
       "      <td>0.999998</td>\n",
       "      <td>0.430270</td>\n",
       "      <td>1.000000</td>\n",
       "      <td>0.998808</td>\n",
       "      <td>0.428185</td>\n",
       "      <td>1.000000</td>\n",
       "      <td>0.0</td>\n",
       "      <td>1.000000</td>\n",
       "      <td>0.998837</td>\n",
       "      <td>0.427257</td>\n",
       "      <td>1.000000</td>\n",
       "      <td>0.987842</td>\n",
       "      <td>-0.059265</td>\n",
       "    </tr>\n",
       "    <tr>\n",
       "      <th>sum</th>\n",
       "      <td>0.999998</td>\n",
       "      <td>1.000000</td>\n",
       "      <td>0.430518</td>\n",
       "      <td>0.999998</td>\n",
       "      <td>0.998806</td>\n",
       "      <td>0.428535</td>\n",
       "      <td>0.999998</td>\n",
       "      <td>0.0</td>\n",
       "      <td>0.999998</td>\n",
       "      <td>0.998835</td>\n",
       "      <td>0.427604</td>\n",
       "      <td>0.999998</td>\n",
       "      <td>0.987901</td>\n",
       "      <td>-0.059274</td>\n",
       "    </tr>\n",
       "    <tr>\n",
       "      <th>mean</th>\n",
       "      <td>0.430270</td>\n",
       "      <td>0.430518</td>\n",
       "      <td>1.000000</td>\n",
       "      <td>0.430166</td>\n",
       "      <td>0.412250</td>\n",
       "      <td>0.289961</td>\n",
       "      <td>0.430270</td>\n",
       "      <td>0.0</td>\n",
       "      <td>0.430270</td>\n",
       "      <td>0.412422</td>\n",
       "      <td>0.290205</td>\n",
       "      <td>0.430270</td>\n",
       "      <td>0.450619</td>\n",
       "      <td>0.095709</td>\n",
       "    </tr>\n",
       "    <tr>\n",
       "      <th rowspan=\"3\" valign=\"top\">price</th>\n",
       "      <th>count</th>\n",
       "      <td>1.000000</td>\n",
       "      <td>0.999998</td>\n",
       "      <td>0.430166</td>\n",
       "      <td>1.000000</td>\n",
       "      <td>0.998830</td>\n",
       "      <td>0.428161</td>\n",
       "      <td>1.000000</td>\n",
       "      <td>0.0</td>\n",
       "      <td>1.000000</td>\n",
       "      <td>0.998858</td>\n",
       "      <td>0.427231</td>\n",
       "      <td>1.000000</td>\n",
       "      <td>0.987743</td>\n",
       "      <td>-0.059485</td>\n",
       "    </tr>\n",
       "    <tr>\n",
       "      <th>sum</th>\n",
       "      <td>0.998808</td>\n",
       "      <td>0.998806</td>\n",
       "      <td>0.412250</td>\n",
       "      <td>0.998830</td>\n",
       "      <td>1.000000</td>\n",
       "      <td>0.424631</td>\n",
       "      <td>0.998808</td>\n",
       "      <td>0.0</td>\n",
       "      <td>0.998808</td>\n",
       "      <td>1.000000</td>\n",
       "      <td>0.423664</td>\n",
       "      <td>0.998808</td>\n",
       "      <td>0.981275</td>\n",
       "      <td>-0.065441</td>\n",
       "    </tr>\n",
       "    <tr>\n",
       "      <th>mean</th>\n",
       "      <td>0.428185</td>\n",
       "      <td>0.428535</td>\n",
       "      <td>0.289961</td>\n",
       "      <td>0.428161</td>\n",
       "      <td>0.424631</td>\n",
       "      <td>1.000000</td>\n",
       "      <td>0.428185</td>\n",
       "      <td>0.0</td>\n",
       "      <td>0.428185</td>\n",
       "      <td>0.424676</td>\n",
       "      <td>0.999979</td>\n",
       "      <td>0.428185</td>\n",
       "      <td>0.428958</td>\n",
       "      <td>0.198488</td>\n",
       "    </tr>\n",
       "    <tr>\n",
       "      <th rowspan=\"2\" valign=\"top\">points_string</th>\n",
       "      <th>count</th>\n",
       "      <td>1.000000</td>\n",
       "      <td>0.999998</td>\n",
       "      <td>0.430270</td>\n",
       "      <td>1.000000</td>\n",
       "      <td>0.998808</td>\n",
       "      <td>0.428185</td>\n",
       "      <td>1.000000</td>\n",
       "      <td>0.0</td>\n",
       "      <td>1.000000</td>\n",
       "      <td>0.998837</td>\n",
       "      <td>0.427257</td>\n",
       "      <td>1.000000</td>\n",
       "      <td>0.987842</td>\n",
       "      <td>-0.059265</td>\n",
       "    </tr>\n",
       "    <tr>\n",
       "      <th>mean</th>\n",
       "      <td>0.000000</td>\n",
       "      <td>0.000000</td>\n",
       "      <td>0.000000</td>\n",
       "      <td>0.000000</td>\n",
       "      <td>0.000000</td>\n",
       "      <td>0.000000</td>\n",
       "      <td>0.000000</td>\n",
       "      <td>NaN</td>\n",
       "      <td>0.000000</td>\n",
       "      <td>0.000000</td>\n",
       "      <td>0.000000</td>\n",
       "      <td>0.000000</td>\n",
       "      <td>0.000000</td>\n",
       "      <td>0.000000</td>\n",
       "    </tr>\n",
       "    <tr>\n",
       "      <th rowspan=\"3\" valign=\"top\">priceImpute</th>\n",
       "      <th>count</th>\n",
       "      <td>1.000000</td>\n",
       "      <td>0.999998</td>\n",
       "      <td>0.430270</td>\n",
       "      <td>1.000000</td>\n",
       "      <td>0.998808</td>\n",
       "      <td>0.428185</td>\n",
       "      <td>1.000000</td>\n",
       "      <td>0.0</td>\n",
       "      <td>1.000000</td>\n",
       "      <td>0.998837</td>\n",
       "      <td>0.427257</td>\n",
       "      <td>1.000000</td>\n",
       "      <td>0.987842</td>\n",
       "      <td>-0.059265</td>\n",
       "    </tr>\n",
       "    <tr>\n",
       "      <th>sum</th>\n",
       "      <td>0.998837</td>\n",
       "      <td>0.998835</td>\n",
       "      <td>0.412422</td>\n",
       "      <td>0.998858</td>\n",
       "      <td>1.000000</td>\n",
       "      <td>0.424676</td>\n",
       "      <td>0.998837</td>\n",
       "      <td>0.0</td>\n",
       "      <td>0.998837</td>\n",
       "      <td>1.000000</td>\n",
       "      <td>0.423710</td>\n",
       "      <td>0.998837</td>\n",
       "      <td>0.981413</td>\n",
       "      <td>-0.065220</td>\n",
       "    </tr>\n",
       "    <tr>\n",
       "      <th>mean</th>\n",
       "      <td>0.427257</td>\n",
       "      <td>0.427604</td>\n",
       "      <td>0.290205</td>\n",
       "      <td>0.427231</td>\n",
       "      <td>0.423664</td>\n",
       "      <td>0.999979</td>\n",
       "      <td>0.427257</td>\n",
       "      <td>0.0</td>\n",
       "      <td>0.427257</td>\n",
       "      <td>0.423710</td>\n",
       "      <td>1.000000</td>\n",
       "      <td>0.427257</td>\n",
       "      <td>0.428229</td>\n",
       "      <td>0.203477</td>\n",
       "    </tr>\n",
       "    <tr>\n",
       "      <th rowspan=\"3\" valign=\"top\">imputeFlag</th>\n",
       "      <th>count</th>\n",
       "      <td>1.000000</td>\n",
       "      <td>0.999998</td>\n",
       "      <td>0.430270</td>\n",
       "      <td>1.000000</td>\n",
       "      <td>0.998808</td>\n",
       "      <td>0.428185</td>\n",
       "      <td>1.000000</td>\n",
       "      <td>0.0</td>\n",
       "      <td>1.000000</td>\n",
       "      <td>0.998837</td>\n",
       "      <td>0.427257</td>\n",
       "      <td>1.000000</td>\n",
       "      <td>0.987842</td>\n",
       "      <td>-0.059265</td>\n",
       "    </tr>\n",
       "    <tr>\n",
       "      <th>sum</th>\n",
       "      <td>0.987842</td>\n",
       "      <td>0.987901</td>\n",
       "      <td>0.450619</td>\n",
       "      <td>0.987743</td>\n",
       "      <td>0.981275</td>\n",
       "      <td>0.428958</td>\n",
       "      <td>0.987842</td>\n",
       "      <td>0.0</td>\n",
       "      <td>0.987842</td>\n",
       "      <td>0.981413</td>\n",
       "      <td>0.428229</td>\n",
       "      <td>0.987842</td>\n",
       "      <td>1.000000</td>\n",
       "      <td>-0.004819</td>\n",
       "    </tr>\n",
       "    <tr>\n",
       "      <th>mean</th>\n",
       "      <td>-0.059265</td>\n",
       "      <td>-0.059274</td>\n",
       "      <td>0.095709</td>\n",
       "      <td>-0.059485</td>\n",
       "      <td>-0.065441</td>\n",
       "      <td>0.198488</td>\n",
       "      <td>-0.059265</td>\n",
       "      <td>0.0</td>\n",
       "      <td>-0.059265</td>\n",
       "      <td>-0.065220</td>\n",
       "      <td>0.203477</td>\n",
       "      <td>-0.059265</td>\n",
       "      <td>-0.004819</td>\n",
       "      <td>1.000000</td>\n",
       "    </tr>\n",
       "  </tbody>\n",
       "</table>\n",
       "</div>"
      ],
      "text/plain": [
       "                       rating                         price            \\\n",
       "                        count       sum      mean     count       sum   \n",
       "rating        count  1.000000  0.999998  0.430270  1.000000  0.998808   \n",
       "              sum    0.999998  1.000000  0.430518  0.999998  0.998806   \n",
       "              mean   0.430270  0.430518  1.000000  0.430166  0.412250   \n",
       "price         count  1.000000  0.999998  0.430166  1.000000  0.998830   \n",
       "              sum    0.998808  0.998806  0.412250  0.998830  1.000000   \n",
       "              mean   0.428185  0.428535  0.289961  0.428161  0.424631   \n",
       "points_string count  1.000000  0.999998  0.430270  1.000000  0.998808   \n",
       "              mean   0.000000  0.000000  0.000000  0.000000  0.000000   \n",
       "priceImpute   count  1.000000  0.999998  0.430270  1.000000  0.998808   \n",
       "              sum    0.998837  0.998835  0.412422  0.998858  1.000000   \n",
       "              mean   0.427257  0.427604  0.290205  0.427231  0.423664   \n",
       "imputeFlag    count  1.000000  0.999998  0.430270  1.000000  0.998808   \n",
       "              sum    0.987842  0.987901  0.450619  0.987743  0.981275   \n",
       "              mean  -0.059265 -0.059274  0.095709 -0.059485 -0.065441   \n",
       "\n",
       "                              points_string      priceImpute            \\\n",
       "                         mean         count mean       count       sum   \n",
       "rating        count  0.428185      1.000000  0.0    1.000000  0.998837   \n",
       "              sum    0.428535      0.999998  0.0    0.999998  0.998835   \n",
       "              mean   0.289961      0.430270  0.0    0.430270  0.412422   \n",
       "price         count  0.428161      1.000000  0.0    1.000000  0.998858   \n",
       "              sum    0.424631      0.998808  0.0    0.998808  1.000000   \n",
       "              mean   1.000000      0.428185  0.0    0.428185  0.424676   \n",
       "points_string count  0.428185      1.000000  0.0    1.000000  0.998837   \n",
       "              mean   0.000000      0.000000  NaN    0.000000  0.000000   \n",
       "priceImpute   count  0.428185      1.000000  0.0    1.000000  0.998837   \n",
       "              sum    0.424676      0.998837  0.0    0.998837  1.000000   \n",
       "              mean   0.999979      0.427257  0.0    0.427257  0.423710   \n",
       "imputeFlag    count  0.428185      1.000000  0.0    1.000000  0.998837   \n",
       "              sum    0.428958      0.987842  0.0    0.987842  0.981413   \n",
       "              mean   0.198488     -0.059265  0.0   -0.059265 -0.065220   \n",
       "\n",
       "                              imputeFlag                      \n",
       "                         mean      count       sum      mean  \n",
       "rating        count  0.427257   1.000000  0.987842 -0.059265  \n",
       "              sum    0.427604   0.999998  0.987901 -0.059274  \n",
       "              mean   0.290205   0.430270  0.450619  0.095709  \n",
       "price         count  0.427231   1.000000  0.987743 -0.059485  \n",
       "              sum    0.423664   0.998808  0.981275 -0.065441  \n",
       "              mean   0.999979   0.428185  0.428958  0.198488  \n",
       "points_string count  0.427257   1.000000  0.987842 -0.059265  \n",
       "              mean   0.000000   0.000000  0.000000  0.000000  \n",
       "priceImpute   count  0.427257   1.000000  0.987842 -0.059265  \n",
       "              sum    0.423710   0.998837  0.981413 -0.065220  \n",
       "              mean   1.000000   0.427257  0.428229  0.203477  \n",
       "imputeFlag    count  0.427257   1.000000  0.987842 -0.059265  \n",
       "              sum    0.428229   0.987842  1.000000 -0.004819  \n",
       "              mean   0.203477  -0.059265 -0.004819  1.000000  "
      ]
     },
     "execution_count": 51,
     "metadata": {},
     "output_type": "execute_result"
    }
   ],
   "source": [
    "avgUS.corr()"
   ]
  },
  {
   "cell_type": "markdown",
   "metadata": {
    "azdata_cell_guid": "12da8d87-9dbd-47f1-8caf-bc5bfd4f7f2a"
   },
   "source": [
    "### Q18: Show the number of imputed prices by state?"
   ]
  },
  {
   "cell_type": "code",
   "execution_count": 52,
   "metadata": {
    "azdata_cell_guid": "accf0f2f-5cf9-42a4-9fa1-4b319e1feee0"
   },
   "outputs": [
    {
     "data": {
      "text/plain": [
       "state\n",
       "America                0\n",
       "Arizona                1\n",
       "California           143\n",
       "Colorado               0\n",
       "Connecticut            0\n",
       "Hawaii                 0\n",
       "Idaho                  2\n",
       "Illinois               0\n",
       "Iowa                   0\n",
       "Kentucky               0\n",
       "Massachusetts          0\n",
       "Michigan               3\n",
       "Missouri               0\n",
       "Nevada                 0\n",
       "New Jersey             0\n",
       "New Mexico             0\n",
       "New York              12\n",
       "North Carolina         0\n",
       "Ohio                   0\n",
       "Oregon                14\n",
       "Pennsylvania           0\n",
       "Rhode Island           0\n",
       "Texas                  1\n",
       "Vermont                0\n",
       "Virginia               7\n",
       "Washington            56\n",
       "Washington-Oregon      0\n",
       "Name: imputeFlag, dtype: int64"
      ]
     },
     "execution_count": 52,
     "metadata": {},
     "output_type": "execute_result"
    }
   ],
   "source": [
    "wineUS.groupby('state').imputeFlag.sum()"
   ]
  },
  {
   "cell_type": "markdown",
   "metadata": {
    "azdata_cell_guid": "ed3f191d-2de1-497c-b68c-d9d9ff12bdcf"
   },
   "source": [
    "#### Now look at the imputed price values by state and region"
   ]
  },
  {
   "cell_type": "code",
   "execution_count": 53,
   "metadata": {
    "azdata_cell_guid": "cb29e4ed-18f2-4205-afe4-f543ab34ee35"
   },
   "outputs": [
    {
     "data": {
      "text/plain": [
       "state              region_1               \n",
       "California         Paso Robles                23\n",
       "Washington         Columbia Valley (WA)       15\n",
       "                   Yakima Valley              13\n",
       "California         Central Coast              12\n",
       "                   Monterey                    9\n",
       "                                              ..\n",
       "                   Napa-Monterey-Mendocino     0\n",
       "                   Napa-Sonoma                 0\n",
       "                   Napa-Sonoma-Marin           0\n",
       "                   Nevada County               0\n",
       "Washington-Oregon  Unknown                     0\n",
       "Name: imputeFlag, Length: 271, dtype: int64"
      ]
     },
     "execution_count": 53,
     "metadata": {},
     "output_type": "execute_result"
    }
   ],
   "source": [
    "wineUS.groupby(['state','region_1']).imputeFlag.sum().sort_values(ascending = False)"
   ]
  }
 ],
 "metadata": {
  "kernelspec": {
   "display_name": "Python 3 (ipykernel)",
   "language": "python",
   "name": "python3"
  },
  "language_info": {
   "codemirror_mode": {
    "name": "ipython",
    "version": 3
   },
   "file_extension": ".py",
   "mimetype": "text/x-python",
   "name": "python",
   "nbconvert_exporter": "python",
   "pygments_lexer": "ipython3",
   "version": "3.9.13"
  },
  "toc": {
   "nav_menu": {
    "height": "207px",
    "width": "253px"
   },
   "number_sections": true,
   "sideBar": true,
   "skip_h1_title": false,
   "toc_cell": false,
   "toc_position": {
    "height": "600px",
    "left": "0px",
    "right": "831.286px",
    "top": "67px",
    "width": "288px"
   },
   "toc_section_display": "block",
   "toc_window_display": true
  }
 },
 "nbformat": 4,
 "nbformat_minor": 2
}
